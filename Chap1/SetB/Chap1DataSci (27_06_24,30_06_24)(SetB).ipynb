{
 "cells": [
  {
   "cell_type": "markdown",
   "id": "60e2563f-ddc2-4847-9a1f-7c3b7b7ccfd0",
   "metadata": {},
   "source": [
    "## SetB"
   ]
  },
  {
   "cell_type": "markdown",
   "id": "f22c85bb-1851-4cf9-a363-d612eae433b7",
   "metadata": {},
   "source": [
    "## 1. Write a R program to reverse a number and also calculate the sum of digits of that number."
   ]
  },
  {
   "cell_type": "code",
   "execution_count": null,
   "id": "a0f14e25-898e-42da-be9c-f4b1dcc73475",
   "metadata": {},
   "outputs": [],
   "source": [
    "rev():\n",
    "In R, the rev function is used to reverse the elements of a vector or other objects such as lists. \n",
    "The basic syntax for rev is:\n",
    "rev(x)\n",
    "Here, x is the vector or object to be reversed."
   ]
  },
  {
   "cell_type": "code",
   "execution_count": null,
   "id": "6ac100bf-dffb-4ea1-aee6-c6d4c5049078",
   "metadata": {},
   "outputs": [],
   "source": [
    "strsplit():\n",
    "In R, the strsplit function is used to split the elements of a character vector into substrings. \n",
    "The basic syntax for strsplit is:\n",
    "strsplit(x, split, fixed = FALSE, perl = FALSE, useBytes = FALSE)\n",
    "\n",
    "Here is a breakdown of the arguments:\n",
    "x: A character vector whose elements are to be split.\n",
    "split: A character string containing a regular expression (or a fixed string) to use for splitting.\n",
    "fixed: Logical. If TRUE, split is used as a fixed string to split the input.\n",
    "perl: Logical. If TRUE, split is interpreted as a Perl-compatible regular expression.\n",
    "useBytes: Logical. If TRUE, the matching is done byte-by-byte rather than character-by-character."
   ]
  },
  {
   "cell_type": "code",
   "execution_count": null,
   "id": "c87194ae-0039-42e3-9aef-b82c37f5879c",
   "metadata": {},
   "outputs": [],
   "source": [
    "strsplit(strnum1, NULL): This splits the string strnum1 into its individual characters.\n",
    "The split argument is NULL, which tells strsplit to split the string into single characters. \n",
    "The result is a list where the first element is a character vector of the individual characters of the string.\n",
    "\n",
    "[[1]]: This extracts the first (and only) element of the list, \n",
    "which is the character vector of individual characters.\n",
    "\n",
    "rev(): This function reverses the order of elements in the character vector."
   ]
  },
  {
   "cell_type": "code",
   "execution_count": 43,
   "id": "7c3c704c-ee47-4aed-aab1-b74ef562dba1",
   "metadata": {},
   "outputs": [
    {
     "name": "stdout",
     "output_type": "stream",
     "text": [
      "var1= 234 \n",
      "strnum1= 234 \n",
      "[[1]]\n",
      "[1] \"2\" \"3\" \"4\"\n",
      "\n",
      "class revnum2- list \n",
      "revnum= 4 3 2 class= character \n",
      "totalsum= 9 class= numeric \n"
     ]
    }
   ],
   "source": [
    "var1<-as.integer(234)\n",
    "cat(\"var1=\",var1,\"\\n\")\n",
    "strnum1=as.character(var1)\n",
    "cat(\"strnum1=\",strnum1,\"\\n\")\n",
    "revnum=rev(strsplit(strnum1,NULL)[[1]])\n",
    "revnum2=rev(strsplit(strnum1,NULL))\n",
    "print(revnum2)\n",
    "cat(\"class revnum2-\",class(revnum2),\"\\n\")\n",
    "cat(\"revnum=\",revnum,\"class=\",class(revnum),\"\\n\")\n",
    "sum=0\n",
    "for(d in revnum){\n",
    "    sum=sum+as.integer(d)\n",
    "}\n",
    "cat(\"totalsum=\",sum,\"class=\",class(sum),\"\\n\")"
   ]
  },
  {
   "cell_type": "markdown",
   "id": "fca6b1fd-cb8d-430f-9ef5-f4d451f69371",
   "metadata": {},
   "source": [
    "## 2. Write a R program to calculate the sum of two matrices of given size."
   ]
  },
  {
   "cell_type": "code",
   "execution_count": null,
   "id": "c140c749-de0d-4ade-974d-acf94f50d20d",
   "metadata": {},
   "outputs": [],
   "source": [
    "matrix: In R, a matrix is a two-dimensional array where all elements are of the same type.\n",
    "\n",
    "matrix():\n",
    "The matrix function in R is used to create a matrix from a vector of elements.\n",
    "Syntax:\n",
    "matrix(data, nrow, ncol, byrow = FALSE, dimnames = NULL)\n",
    "Arguments:\n",
    "data: The vector of elements to fill the matrix.\n",
    "nrow: The number of rows in the matrix.\n",
    "ncol: The number of columns in the matrix.\n",
    "byrow: Logical. If FALSE (the default), the matrix is filled by columns. If TRUE, the matrix is filled by rows.\n",
    "dimnames: A list of two components for row and column names."
   ]
  },
  {
   "cell_type": "code",
   "execution_count": 60,
   "id": "617e432f-2387-4b74-ba3f-1628c1430e93",
   "metadata": {},
   "outputs": [
    {
     "name": "stdout",
     "output_type": "stream",
     "text": [
      "     [,1] [,2] [,3]\n",
      "[1,]    1    2    3\n",
      "[2,]    1    2    3\n"
     ]
    }
   ],
   "source": [
    "mat<-matrix(c(1,1,2,2,3,3),nrow=2,ncol=3)\n",
    "print(mat)"
   ]
  },
  {
   "cell_type": "code",
   "execution_count": 3,
   "id": "bbb7275e-b0ab-450a-bb99-d19a9dff5e1a",
   "metadata": {},
   "outputs": [
    {
     "name": "stdin",
     "output_type": "stream",
     "text": [
      "enter row size: 4\n",
      "enter col size: 4\n"
     ]
    },
    {
     "name": "stderr",
     "output_type": "stream",
     "text": [
      "matrix.1:\n"
     ]
    },
    {
     "name": "stdout",
     "output_type": "stream",
     "text": [
      "     [,1] [,2] [,3] [,4]\n",
      "[1,]    1    2    3    4\n",
      "[2,]    5    6    7    8\n",
      "[3,]    9   10   11   12\n",
      "[4,]   13   14   15   16\n"
     ]
    },
    {
     "name": "stderr",
     "output_type": "stream",
     "text": [
      "matrix.2:\n"
     ]
    },
    {
     "name": "stdout",
     "output_type": "stream",
     "text": [
      "     [,1] [,2] [,3] [,4]\n",
      "[1,]    1    2    3    4\n",
      "[2,]    5    6    7    8\n",
      "[3,]    9   10   11   12\n",
      "[4,]   13   14   15   16\n"
     ]
    },
    {
     "name": "stderr",
     "output_type": "stream",
     "text": [
      "sumMat=:\n"
     ]
    },
    {
     "name": "stdout",
     "output_type": "stream",
     "text": [
      "     [,1] [,2] [,3] [,4]\n",
      "[1,]    2    4    6    8\n",
      "[2,]   10   12   14   16\n",
      "[3,]   18   20   22   24\n",
      "[4,]   26   28   30   32\n"
     ]
    }
   ],
   "source": [
    "s1<-as.integer(readline(\"enter row size:\"))\n",
    "s2<-as.integer(readline(\"enter col size:\"))\n",
    "mat1<-matrix(1:100,nrow=s1,ncol=s2,byrow=TRUE)\n",
    "mat2<-matrix(1:100,nrow=s1,ncol=s2,byrow=TRUE)\n",
    "message(\"matrix.1:\")\n",
    "print(mat1)\n",
    "message(\"matrix.2:\")\n",
    "print(mat2)\n",
    "sum_Matrix=mat1+mat2\n",
    "message(\"sumMat=:\")\n",
    "print(sum_Matrix)"
   ]
  },
  {
   "cell_type": "markdown",
   "id": "4fe7a8cc-4ffc-4a5c-8ed7-f9a785e3ab11",
   "metadata": {},
   "source": [
    "## 3. Write a R program to concatenate two given factors."
   ]
  },
  {
   "cell_type": "code",
   "execution_count": null,
   "id": "57fcc788-ebfa-43b9-a4da-6569579b7157",
   "metadata": {},
   "outputs": [],
   "source": [
    "factors:\n",
    "In R, a factor is a data structure used for fields that take on a limited number of unique values.\n",
    "->which take only predefined finite number of values.\n",
    "->These are the variable which takes a limited number of different values.\n",
    "->These are the data objects which are used to store categorical data as levels.\n",
    "->It can store both integers and strings values, and are useful in the column that has a limited number of unique values.\n",
    "->By default R always sorts levels in alphabetical order.\n",
    "\n",
    "categorical Data:\n",
    "Categorical data refers to variables that can be divided into different categories but do not have a meaningful numerical value.\n",
    "These categories can be either nominal (no intrinsic order) or ordinal (with a clear order).\n",
    "\n",
    "Types of Categorical Data\n",
    "Nominal Data:\n",
    "Categories without an inherent order.\n",
    "Examples: Gender (Male, Female), Blood Type (A, B, AB, O).\n",
    "\n",
    "Ordinal Data:\n",
    "Categories with a clear, ordered relationship.\n",
    "Examples: Education Level (High School, Bachelor's, Master's, PhD), Rating (Poor, Fair, Good, Excellent).\n",
    "\n",
    "fields:\n",
    "In the context of R and data analysis, \"fields\" typically refer to the columns in a dataset. "
   ]
  },
  {
   "cell_type": "code",
   "execution_count": null,
   "id": "6e461b78-2ab6-4a44-8ad6-1025da2d1095",
   "metadata": {},
   "outputs": [],
   "source": [
    "Syntax:\n",
    "    factor(x, levels = sort(unique(x)), labels = levels, exclude = NA, ordered = is.ordered(x), ...)\n",
    "\n",
    "x: A vector of data.\n",
    "levels: A vector specifying the unique levels (optional).\n",
    "labels: A vector specifying the labels for the levels (optional).\n",
    "exclude: A set of values to be excluded (default is NA).\n",
    "ordered: A logical value indicating whether the factor is ordered (default is FALSE).\n",
    "...: Additional arguments.\n",
    "\n",
    "Attributes of Factor\n",
    "->X:It is the input vector which is to be transformed into a factor.\n",
    "->levels:It is an input vector that represents a set of unique values which are taken by x.\n",
    "->labels:It is a character vector which corresponds to the number of labels.\n",
    "->Exclude:It is used to specify the value which we want to be excluded,\n",
    "->ordered:It is a logical attribute which determines if the levels are ordered.\n",
    "->nmax: It is used to specify the upper bound for the maximum number of level."
   ]
  },
  {
   "cell_type": "code",
   "execution_count": 16,
   "id": "d90af0ec-cb9e-43aa-a810-024299c8bb25",
   "metadata": {},
   "outputs": [
    {
     "name": "stderr",
     "output_type": "stream",
     "text": [
      "x=\n"
     ]
    },
    {
     "name": "stdout",
     "output_type": "stream",
     "text": [
      "[1] \"male\"   \"female\" \"male\"   \"female\" \"female\" \"female\" \"male\"  \n"
     ]
    },
    {
     "name": "stderr",
     "output_type": "stream",
     "text": [
      "class of x=\n"
     ]
    },
    {
     "name": "stdout",
     "output_type": "stream",
     "text": [
      "[1] \"character\"\n"
     ]
    },
    {
     "name": "stderr",
     "output_type": "stream",
     "text": [
      "Factor=\n"
     ]
    },
    {
     "name": "stdout",
     "output_type": "stream",
     "text": [
      "[1] male   female male   female female female male  \n",
      "Levels: male female\n"
     ]
    },
    {
     "name": "stderr",
     "output_type": "stream",
     "text": [
      "Factor=\n"
     ]
    },
    {
     "name": "stdout",
     "output_type": "stream",
     "text": [
      "[1] m f m f f f m\n",
      "Levels: m f\n"
     ]
    }
   ],
   "source": [
    "#create a simple Factor:\n",
    "x=c(\"male\",\"female\",\"male\",\"female\",\"female\",\"female\",\"male\")\n",
    "message(\"x=\")\n",
    "print(x)\n",
    "message(\"class of x=\")\n",
    "print(class(x))\n",
    "Gender<-factor(x,levels=unique(x))\n",
    "message(\"Factor=\")\n",
    "print(Gender)\n",
    "Gender<-factor(x,levels=unique(x),labels=c(\"m\",\"f\"))\n",
    "message(\"Factor=\")\n",
    "print(Gender)"
   ]
  },
  {
   "cell_type": "code",
   "execution_count": null,
   "id": "c12cfe75-49eb-48ca-83f0-8dffbc8b6e45",
   "metadata": {},
   "outputs": [],
   "source": [
    "Concatenation:\n",
    "Concatenation is the process of joining two or more items together in a sequence. \n",
    "In programming and data manipulation, concatenation typically refers to combining strings, vectors, arrays, or other data structures end-to-end. \n",
    "The resulting sequence contains all elements of the original sequences in the specified order.\n",
    "\n",
    "Vectors: Use c() to concatenate vectors.\n",
    "Strings: Use paste() with a separator or paste0() without a separator.\n",
    "Data Frames: Use mutate() with paste() or paste0() to concatenate columns within a data frame.\n",
    "Rows of Data Frames: Use rbind() to concatenate rows of data frames.\n",
    "Columns of Data Frames: Use cbind() to concatenate columns of data frames."
   ]
  },
  {
   "cell_type": "code",
   "execution_count": null,
   "id": "8e0d50a1-cbcf-4ae5-9a82-f69446de08cb",
   "metadata": {},
   "outputs": [],
   "source": [
    "levels() gives us the unique levels in factor.\n",
    "\n",
    "c() concatenates these levels into a single vector.\n",
    "\n",
    "factor(...) then creates a new factor using the concatenated levels."
   ]
  },
  {
   "cell_type": "code",
   "execution_count": 44,
   "id": "bc513f14-7ae0-491b-a2d5-8eb32120e563",
   "metadata": {},
   "outputs": [
    {
     "name": "stderr",
     "output_type": "stream",
     "text": [
      "x=\n"
     ]
    },
    {
     "name": "stdout",
     "output_type": "stream",
     "text": [
      "[1] \"male\"   \"female\" \"male\"   \"female\" \"female\" \"female\" \"male\"  \n"
     ]
    },
    {
     "name": "stderr",
     "output_type": "stream",
     "text": [
      "class of x=\n"
     ]
    },
    {
     "name": "stdout",
     "output_type": "stream",
     "text": [
      "[1] \"character\"\n"
     ]
    },
    {
     "name": "stderr",
     "output_type": "stream",
     "text": [
      "bg=\n"
     ]
    },
    {
     "name": "stdout",
     "output_type": "stream",
     "text": [
      "[1] \"A+\"  \"AB-\" \"O+\"  \"B+\"  \"B+\" \n"
     ]
    },
    {
     "name": "stderr",
     "output_type": "stream",
     "text": [
      "class of bg=\n"
     ]
    },
    {
     "name": "stdout",
     "output_type": "stream",
     "text": [
      "[1] \"character\"\n"
     ]
    },
    {
     "name": "stderr",
     "output_type": "stream",
     "text": [
      "Factor Gender=\n"
     ]
    },
    {
     "name": "stdout",
     "output_type": "stream",
     "text": [
      "[1] male   female male   female female female male  \n",
      "Levels: male female\n"
     ]
    },
    {
     "name": "stderr",
     "output_type": "stream",
     "text": [
      "Factor BloodGroup=\n"
     ]
    },
    {
     "name": "stdout",
     "output_type": "stream",
     "text": [
      "[1] A+  AB- O+  B+  B+ \n",
      "Levels: A+ AB- O+ B+\n"
     ]
    },
    {
     "name": "stderr",
     "output_type": "stream",
     "text": [
      "Concatenate Factor humans=\n"
     ]
    },
    {
     "name": "stdout",
     "output_type": "stream",
     "text": [
      "[1] male   female A+     AB-    O+     B+    \n",
      "Levels: A+ AB- B+ female male O+\n"
     ]
    },
    {
     "name": "stderr",
     "output_type": "stream",
     "text": [
      "Factor=\n"
     ]
    },
    {
     "name": "stdout",
     "output_type": "stream",
     "text": [
      "[1] m f m f f f m\n",
      "Levels: m f\n"
     ]
    },
    {
     "name": "stderr",
     "output_type": "stream",
     "text": [
      "Factor BloodGroup=\n"
     ]
    },
    {
     "name": "stdout",
     "output_type": "stream",
     "text": [
      "[1] <NA> <NA> <NA> <NA> <NA>\n",
      "Levels: A B O\n"
     ]
    },
    {
     "name": "stderr",
     "output_type": "stream",
     "text": [
      "Factor1=\n"
     ]
    },
    {
     "name": "stdout",
     "output_type": "stream",
     "text": [
      "[1] A A B C D\n",
      "Levels: A B C D\n"
     ]
    },
    {
     "name": "stderr",
     "output_type": "stream",
     "text": [
      "Factor2=\n"
     ]
    },
    {
     "name": "stdout",
     "output_type": "stream",
     "text": [
      "[1] D B C C A\n",
      "Levels: D B C A\n"
     ]
    },
    {
     "name": "stderr",
     "output_type": "stream",
     "text": [
      "concat_factor=\n"
     ]
    },
    {
     "name": "stdout",
     "output_type": "stream",
     "text": [
      "[1] A B C D D B C A\n",
      "Levels: A B C D\n"
     ]
    }
   ],
   "source": [
    "x=c(\"male\",\"female\",\"male\",\"female\",\"female\",\"female\",\"male\")\n",
    "# A+,A-,B+,B-,AB+,AB-,O+,O-\n",
    "bg=c(\"A+\",\"AB-\",\"O+\",\"B+\",\"B+\")\n",
    "message(\"x=\")\n",
    "print(x)\n",
    "message(\"class of x=\")\n",
    "print(class(x))\n",
    "message(\"bg=\")\n",
    "print(bg)\n",
    "message(\"class of bg=\")\n",
    "print(class(bg))\n",
    "\n",
    "Gender<-factor(x,levels=unique(x))\n",
    "BloodGroup<-factor(bg,levels=unique(bg))\n",
    "message(\"Factor Gender=\")\n",
    "print(Gender)\n",
    "message(\"Factor BloodGroup=\")\n",
    "print(BloodGroup)\n",
    "\n",
    "#question logic\n",
    "humans=factor(c(levels(Gender),levels(BloodGroup)))\n",
    "message(\"Concatenate Factor humans=\")\n",
    "print(humans)\n",
    "\n",
    "Gender<-factor(x,levels=unique(x),labels=c(\"m\",\"f\"))\n",
    "message(\"Factor=\")\n",
    "print(Gender)\n",
    "BloodGroup<-factor(bg,levels=c(\"A\",\"B\",\"O\"))\n",
    "message(\"Factor BloodGroup=\")\n",
    "print(BloodGroup)\n",
    "\n",
    "vect1=c(\"A\",\"A\",\"B\",\"C\",\"D\")\n",
    "vect2=c(\"D\",\"B\",\"C\",\"C\",\"A\")\n",
    "#create factor\n",
    "factor1=factor(vect1,levels=unique(vect1))\n",
    "message(\"Factor1=\")\n",
    "print(factor1)\n",
    "factor2=factor(vect2,levels=unique(vect2))\n",
    "message(\"Factor2=\")\n",
    "print(factor2)\n",
    "#concatenate\n",
    "concat_factor=factor(c(levels(factor1),levels(factor2)))\n",
    "message(\"concat_factor=\")\n",
    "print(concat_factor)"
   ]
  },
  {
   "cell_type": "markdown",
   "id": "342228a5-5b01-4cda-853d-ee9249386f7a",
   "metadata": {},
   "source": [
    "## 4. Write a R program to create a data frame using two given vectors and display the duplicate elements"
   ]
  },
  {
   "cell_type": "code",
   "execution_count": null,
   "id": "cf5c604e-b988-4c24-87ee-681cf8c43ca1",
   "metadata": {},
   "outputs": [],
   "source": [
    "What is a Dataset?\n",
    "A Dataset is a set of data grouped into a collection with which developers can work to meet their goals. \n",
    "In a dataset, the rows represent the number of data points and the columns represent the features of the Dataset. \n",
    "They are mostly used in fields like machine learning, business, \n",
    "and government to gain insights, make informed decisions, or train algorithms. \n",
    "Datasets may vary in size and complexity and they mostly require cleaning and preprocessing \n",
    "to ensure data quality and suitability for analysis or modeling."
   ]
  },
  {
   "cell_type": "code",
   "execution_count": null,
   "id": "2febd28f-0b7e-4955-91b6-5f5887ae80c1",
   "metadata": {},
   "outputs": [],
   "source": [
    "In R, a data frame is a key data structure used for storing data tables. \n",
    "It is essentially a list of vectors of equal length, \n",
    "where each vector represents a column, and each element within the vector represents a row. "
   ]
  },
  {
   "cell_type": "code",
   "execution_count": null,
   "id": "e223fcd1-d735-4ff4-ac97-4b7032f28dc0",
   "metadata": {},
   "outputs": [],
   "source": [
    "There are following characteristics of a data frame.\n",
    "o The columns name should be non-empty.\n",
    "o The rows name should be unique.\n",
    "o The data which is stored in a data frame can be a factor, numeric, or character\n",
    "type.\n",
    "o Each column contains the same number of data items"
   ]
  },
  {
   "cell_type": "code",
   "execution_count": null,
   "id": "86c18a43-852c-4a08-b706-23642868e080",
   "metadata": {},
   "outputs": [],
   "source": [
    "data.frame():\n",
    "data.frame() function to combine these vectors into a data frame."
   ]
  },
  {
   "cell_type": "code",
   "execution_count": null,
   "id": "759d2058-08b5-4d09-a125-289158b719ac",
   "metadata": {},
   "outputs": [],
   "source": [
    "duplicated():\n",
    "In R, the duplicated() function is used to identify duplicate elements in a vector or rows in a data frame. \n",
    "When used with a data frame, duplicated() returns a logical vector indicating whether each row is a duplicate of a previous row."
   ]
  },
  {
   "cell_type": "code",
   "execution_count": 28,
   "id": "5270526e-151a-4220-ad4d-54cbee8e6799",
   "metadata": {},
   "outputs": [
    {
     "name": "stderr",
     "output_type": "stream",
     "text": [
      "DataFrame=\n"
     ]
    },
    {
     "name": "stdout",
     "output_type": "stream",
     "text": [
      "     product prices\n",
      "1      chips     20\n",
      "2 soft drink     45\n",
      "3  chocolate     50\n",
      "4  chocolate     50\n",
      "5      chips     20\n",
      "6   icecream     90\n"
     ]
    },
    {
     "name": "stderr",
     "output_type": "stream",
     "text": [
      "Extracting data from Data Frame=\n"
     ]
    },
    {
     "name": "stdout",
     "output_type": "stream",
     "text": [
      "     product\n",
      "1      chips\n",
      "2 soft drink\n",
      "3  chocolate\n",
      "4  chocolate\n",
      "5      chips\n",
      "6   icecream\n"
     ]
    },
    {
     "name": "stderr",
     "output_type": "stream",
     "text": [
      "duplicate values result:logical from Data Frame=\n"
     ]
    },
    {
     "name": "stdout",
     "output_type": "stream",
     "text": [
      "[1] FALSE FALSE FALSE  TRUE  TRUE FALSE\n"
     ]
    },
    {
     "name": "stderr",
     "output_type": "stream",
     "text": [
      "duplicate values  result:dataValues from Data Frame=\n"
     ]
    },
    {
     "name": "stdout",
     "output_type": "stream",
     "text": [
      "    product prices\n",
      "4 chocolate     50\n",
      "5     chips     20\n"
     ]
    },
    {
     "name": "stderr",
     "output_type": "stream",
     "text": [
      "duplicate values  result:values with specific ColName from Data Frame=\n"
     ]
    },
    {
     "name": "stdout",
     "output_type": "stream",
     "text": [
      "[1] chocolate chips    \n",
      "Levels: chips chocolate icecream soft drink\n"
     ]
    }
   ],
   "source": [
    "#creating a Data Frame\n",
    "product=c(\"chips\",\"soft drink\",\"chocolate\",\"chocolate\",\"chips\",\"icecream\")\n",
    "prices=c(20,45,50,50,20,90)\n",
    "df=data.frame(product,prices)\n",
    "message(\"DataFrame=\")\n",
    "print(df)\n",
    "message(\"Extracting data from Data Frame=\")\n",
    "print(df[1])\n",
    "message(\"duplicate values result:logical from Data Frame=\")\n",
    "duplicates=duplicated(df)\n",
    "print(duplicates)\n",
    "message(\"duplicate values  result:dataValues from Data Frame=\")\n",
    "duplicates=df[duplicated(df),]\n",
    "print(duplicates)\n",
    "message(\"duplicate values  result:values with specific ColName from Data Frame=\")\n",
    "duplicates=df[duplicated(df),\"product\"]\n",
    "print(duplicates)"
   ]
  },
  {
   "cell_type": "code",
   "execution_count": null,
   "id": "06100e9d-cc47-4e35-b398-84d4f5c5b7f3",
   "metadata": {},
   "outputs": [],
   "source": [
    "Explanation of  df[duplicated(df),]:\n",
    "df: This is the data frame you are working with.\n",
    "duplicated(df): This function returns a logical vector indicating which rows in the data frame are duplicates of previous rows.\n",
    "df[duplicated(df), ]: This is a subsetting operation.\n",
    "df[...]: The brackets [...] are used for subsetting data frames.\n",
    "duplicated(df): Inside the brackets, this logical vector specifies which rows to keep. It returns TRUE for duplicate rows and FALSE otherwise.\n",
    ",: The comma separates row indices from column indices in subsetting. In this case, there's nothing after the comma, which means \"all columns.\""
   ]
  },
  {
   "cell_type": "code",
   "execution_count": null,
   "id": "6d0984bb-fc46-486e-afac-408cb9390a6d",
   "metadata": {},
   "outputs": [],
   "source": [
    "Subsetting in R refers to the process of extracting portions of data from data structures such as vectors, matrices, data frames, and lists. \n",
    "Here, I'll cover subsetting using a data frame, which is a common task in data analysis."
   ]
  },
  {
   "cell_type": "code",
   "execution_count": 32,
   "id": "7d47219a-ed82-4d96-bce9-09dc0fa53f0a",
   "metadata": {},
   "outputs": [
    {
     "name": "stderr",
     "output_type": "stream",
     "text": [
      "DataFrame=\n"
     ]
    },
    {
     "name": "stdout",
     "output_type": "stream",
     "text": [
      "     product prices\n",
      "1      chips     20\n",
      "2 soft drink     45\n",
      "3  chocolate     50\n",
      "4  chocolate     50\n",
      "5      chips     20\n",
      "6   icecream     90\n"
     ]
    },
    {
     "name": "stderr",
     "output_type": "stream",
     "text": [
      "Subset DataFrame=\n"
     ]
    },
    {
     "name": "stdout",
     "output_type": "stream",
     "text": [
      "[1] chips      soft drink chocolate \n",
      "Levels: chips chocolate icecream soft drink\n"
     ]
    }
   ],
   "source": [
    "product=c(\"chips\",\"soft drink\",\"chocolate\",\"chocolate\",\"chips\",\"icecream\")\n",
    "prices=c(20,45,50,50,20,90)\n",
    "df=data.frame(product,prices)\n",
    "message(\"DataFrame=\")\n",
    "print(df)\n",
    "#Subset the first three rows and the first column\n",
    "dfsubset<-df[1:3, 1]\n",
    "message(\"Subset DataFrame=\")\n",
    "print(dfsubset)"
   ]
  },
  {
   "cell_type": "markdown",
   "id": "e42f3e2c-849f-496b-8087-856c706cd822",
   "metadata": {},
   "source": [
    "## 5. Write a R program to perform the following:\n",
    "## a. Display all rows of the data set having weight greater than 120.\n",
    "## b. Display all rows of data set in ascending order of weight.\n",
    "## (Use inbuilt data set woman)"
   ]
  },
  {
   "cell_type": "code",
   "execution_count": null,
   "id": "198c36e7-999e-43fd-bdbe-c1767d32ebe5",
   "metadata": {},
   "outputs": [],
   "source": [
    "The women dataset is a built-in dataset in R. \n",
    "It contains the average heights and weights for American women aged 30–39. \n",
    "The dataset has 15 observations and 2 variables: height (in inches) and weight (in pounds)."
   ]
  },
  {
   "cell_type": "code",
   "execution_count": 16,
   "id": "01ecc83d-0252-409b-a296-e0d20b26159d",
   "metadata": {},
   "outputs": [
    {
     "name": "stderr",
     "output_type": "stream",
     "text": [
      "Women DataSet:\n"
     ]
    },
    {
     "name": "stdout",
     "output_type": "stream",
     "text": [
      "   height weight\n",
      "1      58    115\n",
      "2      59    117\n",
      "3      60    120\n",
      "4      61    123\n",
      "5      62    126\n",
      "6      63    129\n",
      "7      64    132\n",
      "8      65    135\n",
      "9      66    139\n",
      "10     67    142\n",
      "11     68    146\n",
      "12     69    150\n",
      "13     70    154\n",
      "14     71    159\n",
      "15     72    164\n"
     ]
    },
    {
     "name": "stderr",
     "output_type": "stream",
     "text": [
      "Women DataSet Head and Tail:\n",
      "head:\n"
     ]
    },
    {
     "data": {
      "text/html": [
       "<table>\n",
       "<thead><tr><th scope=col>height</th><th scope=col>weight</th></tr></thead>\n",
       "<tbody>\n",
       "\t<tr><td>58 </td><td>115</td></tr>\n",
       "\t<tr><td>59 </td><td>117</td></tr>\n",
       "\t<tr><td>60 </td><td>120</td></tr>\n",
       "\t<tr><td>61 </td><td>123</td></tr>\n",
       "\t<tr><td>62 </td><td>126</td></tr>\n",
       "\t<tr><td>63 </td><td>129</td></tr>\n",
       "</tbody>\n",
       "</table>\n"
      ],
      "text/latex": [
       "\\begin{tabular}{r|ll}\n",
       " height & weight\\\\\n",
       "\\hline\n",
       "\t 58  & 115\\\\\n",
       "\t 59  & 117\\\\\n",
       "\t 60  & 120\\\\\n",
       "\t 61  & 123\\\\\n",
       "\t 62  & 126\\\\\n",
       "\t 63  & 129\\\\\n",
       "\\end{tabular}\n"
      ],
      "text/markdown": [
       "\n",
       "| height | weight |\n",
       "|---|---|\n",
       "| 58  | 115 |\n",
       "| 59  | 117 |\n",
       "| 60  | 120 |\n",
       "| 61  | 123 |\n",
       "| 62  | 126 |\n",
       "| 63  | 129 |\n",
       "\n"
      ],
      "text/plain": [
       "  height weight\n",
       "1 58     115   \n",
       "2 59     117   \n",
       "3 60     120   \n",
       "4 61     123   \n",
       "5 62     126   \n",
       "6 63     129   "
      ]
     },
     "metadata": {},
     "output_type": "display_data"
    },
    {
     "name": "stderr",
     "output_type": "stream",
     "text": [
      "tail:\n"
     ]
    },
    {
     "data": {
      "text/html": [
       "<table>\n",
       "<thead><tr><th></th><th scope=col>height</th><th scope=col>weight</th></tr></thead>\n",
       "<tbody>\n",
       "\t<tr><th scope=row>10</th><td>67 </td><td>142</td></tr>\n",
       "\t<tr><th scope=row>11</th><td>68 </td><td>146</td></tr>\n",
       "\t<tr><th scope=row>12</th><td>69 </td><td>150</td></tr>\n",
       "\t<tr><th scope=row>13</th><td>70 </td><td>154</td></tr>\n",
       "\t<tr><th scope=row>14</th><td>71 </td><td>159</td></tr>\n",
       "\t<tr><th scope=row>15</th><td>72 </td><td>164</td></tr>\n",
       "</tbody>\n",
       "</table>\n"
      ],
      "text/latex": [
       "\\begin{tabular}{r|ll}\n",
       "  & height & weight\\\\\n",
       "\\hline\n",
       "\t10 & 67  & 142\\\\\n",
       "\t11 & 68  & 146\\\\\n",
       "\t12 & 69  & 150\\\\\n",
       "\t13 & 70  & 154\\\\\n",
       "\t14 & 71  & 159\\\\\n",
       "\t15 & 72  & 164\\\\\n",
       "\\end{tabular}\n"
      ],
      "text/markdown": [
       "\n",
       "| <!--/--> | height | weight |\n",
       "|---|---|---|\n",
       "| 10 | 67  | 142 |\n",
       "| 11 | 68  | 146 |\n",
       "| 12 | 69  | 150 |\n",
       "| 13 | 70  | 154 |\n",
       "| 14 | 71  | 159 |\n",
       "| 15 | 72  | 164 |\n",
       "\n"
      ],
      "text/plain": [
       "   height weight\n",
       "10 67     142   \n",
       "11 68     146   \n",
       "12 69     150   \n",
       "13 70     154   \n",
       "14 71     159   \n",
       "15 72     164   "
      ]
     },
     "metadata": {},
     "output_type": "display_data"
    },
    {
     "name": "stderr",
     "output_type": "stream",
     "text": [
      "summary statistics:\n"
     ]
    },
    {
     "data": {
      "text/plain": [
       "     height         weight     \n",
       " Min.   :58.0   Min.   :115.0  \n",
       " 1st Qu.:61.5   1st Qu.:124.5  \n",
       " Median :65.0   Median :135.0  \n",
       " Mean   :65.0   Mean   :136.7  \n",
       " 3rd Qu.:68.5   3rd Qu.:148.0  \n",
       " Max.   :72.0   Max.   :164.0  "
      ]
     },
     "metadata": {},
     "output_type": "display_data"
    },
    {
     "name": "stderr",
     "output_type": "stream",
     "text": [
      "Display all rows of the data set having weight greater than 120.:\n"
     ]
    },
    {
     "name": "stdout",
     "output_type": "stream",
     "text": [
      "   height weight\n",
      "4      61    123\n",
      "5      62    126\n",
      "6      63    129\n",
      "7      64    132\n",
      "8      65    135\n",
      "9      66    139\n",
      "10     67    142\n",
      "11     68    146\n",
      "12     69    150\n",
      "13     70    154\n",
      "14     71    159\n",
      "15     72    164\n"
     ]
    },
    {
     "name": "stderr",
     "output_type": "stream",
     "text": [
      "Display all rows of data set in ascending order of weight.:\n",
      "Women DataSet ascending:\n"
     ]
    },
    {
     "name": "stdout",
     "output_type": "stream",
     "text": [
      "   height weight\n",
      "1      58    115\n",
      "2      59    117\n",
      "3      60    120\n",
      "4      61    123\n",
      "5      62    126\n",
      "6      63    129\n",
      "7      64    132\n",
      "8      65    135\n",
      "9      66    139\n",
      "10     67    142\n",
      "11     68    146\n",
      "12     69    150\n",
      "13     70    154\n",
      "14     71    159\n",
      "15     72    164\n"
     ]
    },
    {
     "name": "stderr",
     "output_type": "stream",
     "text": [
      "Women DataSet descending:\n"
     ]
    },
    {
     "name": "stdout",
     "output_type": "stream",
     "text": [
      "   height weight\n",
      "15     72    164\n",
      "14     71    159\n",
      "13     70    154\n",
      "12     69    150\n",
      "11     68    146\n",
      "10     67    142\n",
      "9      66    139\n",
      "8      65    135\n",
      "7      64    132\n",
      "6      63    129\n",
      "5      62    126\n",
      "4      61    123\n",
      "3      60    120\n",
      "2      59    117\n",
      "1      58    115\n"
     ]
    }
   ],
   "source": [
    "# Viewing the women dataset\n",
    "#print dataset\n",
    "message(\"Women DataSet:\")\n",
    "print(women)\n",
    "\n",
    "#viewing the first few rows of Women Dataset\n",
    "message(\"Women DataSet Head and Tail:\")\n",
    "message(\"head:\")\n",
    "head(women)\n",
    "message(\"tail:\")\n",
    "tail(women)\n",
    "\n",
    "# Getting summary statistics for the women dataset\n",
    "message(\"summary statistics:\")\n",
    "summary(women)\n",
    "\n",
    "#Display all rows of the data set having weight greater than 120.\n",
    "message(\"Display all rows of the data set having weight greater than 120.:\")\n",
    "weight<-women[women$weight>120,]\n",
    "print(weight)\n",
    "\n",
    "#Display all rows of data set in ascending order of weight.\n",
    "message(\"Display all rows of data set in ascending order of weight.:\")\n",
    "message(\"Women DataSet ascending:\")\n",
    "sorted_data<-women[order(women$weight),]\n",
    "print(sorted_data)\n",
    "message(\"Women DataSet descending:\")\n",
    "sorted_data<-women[order(-women$weight),]\n",
    "print(sorted_data)"
   ]
  },
  {
   "cell_type": "markdown",
   "id": "ca3e3324-1c89-4249-b1b8-b924c22411fb",
   "metadata": {},
   "source": [
    "## 6. Write a R program to perform the following:\n",
    "## a. Display all the cars having mpg more than 20.\n",
    "## b. Subset the data set by mpg column for values greater than 15.0\n",
    "## c. Display all cars having four gears.\n",
    "## (Use inbuilt data set mtcar)"
   ]
  },
  {
   "cell_type": "code",
   "execution_count": 50,
   "id": "2b7dbf2e-92d2-49c5-b00e-6610691b98a4",
   "metadata": {},
   "outputs": [
    {
     "name": "stderr",
     "output_type": "stream",
     "text": [
      "Dataset mtcars:\n"
     ]
    },
    {
     "name": "stdout",
     "output_type": "stream",
     "text": [
      "                     mpg cyl  disp  hp drat    wt  qsec vs am gear carb\n",
      "Mazda RX4           21.0   6 160.0 110 3.90 2.620 16.46  0  1    4    4\n",
      "Mazda RX4 Wag       21.0   6 160.0 110 3.90 2.875 17.02  0  1    4    4\n",
      "Datsun 710          22.8   4 108.0  93 3.85 2.320 18.61  1  1    4    1\n",
      "Hornet 4 Drive      21.4   6 258.0 110 3.08 3.215 19.44  1  0    3    1\n",
      "Hornet Sportabout   18.7   8 360.0 175 3.15 3.440 17.02  0  0    3    2\n",
      "Valiant             18.1   6 225.0 105 2.76 3.460 20.22  1  0    3    1\n",
      "Duster 360          14.3   8 360.0 245 3.21 3.570 15.84  0  0    3    4\n",
      "Merc 240D           24.4   4 146.7  62 3.69 3.190 20.00  1  0    4    2\n",
      "Merc 230            22.8   4 140.8  95 3.92 3.150 22.90  1  0    4    2\n",
      "Merc 280            19.2   6 167.6 123 3.92 3.440 18.30  1  0    4    4\n",
      "Merc 280C           17.8   6 167.6 123 3.92 3.440 18.90  1  0    4    4\n",
      "Merc 450SE          16.4   8 275.8 180 3.07 4.070 17.40  0  0    3    3\n",
      "Merc 450SL          17.3   8 275.8 180 3.07 3.730 17.60  0  0    3    3\n",
      "Merc 450SLC         15.2   8 275.8 180 3.07 3.780 18.00  0  0    3    3\n",
      "Cadillac Fleetwood  10.4   8 472.0 205 2.93 5.250 17.98  0  0    3    4\n",
      "Lincoln Continental 10.4   8 460.0 215 3.00 5.424 17.82  0  0    3    4\n",
      "Chrysler Imperial   14.7   8 440.0 230 3.23 5.345 17.42  0  0    3    4\n",
      "Fiat 128            32.4   4  78.7  66 4.08 2.200 19.47  1  1    4    1\n",
      "Honda Civic         30.4   4  75.7  52 4.93 1.615 18.52  1  1    4    2\n",
      "Toyota Corolla      33.9   4  71.1  65 4.22 1.835 19.90  1  1    4    1\n",
      "Toyota Corona       21.5   4 120.1  97 3.70 2.465 20.01  1  0    3    1\n",
      "Dodge Challenger    15.5   8 318.0 150 2.76 3.520 16.87  0  0    3    2\n",
      "AMC Javelin         15.2   8 304.0 150 3.15 3.435 17.30  0  0    3    2\n",
      "Camaro Z28          13.3   8 350.0 245 3.73 3.840 15.41  0  0    3    4\n",
      "Pontiac Firebird    19.2   8 400.0 175 3.08 3.845 17.05  0  0    3    2\n",
      "Fiat X1-9           27.3   4  79.0  66 4.08 1.935 18.90  1  1    4    1\n",
      "Porsche 914-2       26.0   4 120.3  91 4.43 2.140 16.70  0  1    5    2\n",
      "Lotus Europa        30.4   4  95.1 113 3.77 1.513 16.90  1  1    5    2\n",
      "Ford Pantera L      15.8   8 351.0 264 4.22 3.170 14.50  0  1    5    4\n",
      "Ferrari Dino        19.7   6 145.0 175 3.62 2.770 15.50  0  1    5    6\n",
      "Maserati Bora       15.0   8 301.0 335 3.54 3.570 14.60  0  1    5    8\n",
      "Volvo 142E          21.4   4 121.0 109 4.11 2.780 18.60  1  1    4    2\n"
     ]
    },
    {
     "name": "stderr",
     "output_type": "stream",
     "text": [
      "Dataset mtcars class:\n"
     ]
    },
    {
     "name": "stdout",
     "output_type": "stream",
     "text": [
      "[1] \"data.frame\"\n"
     ]
    },
    {
     "name": "stderr",
     "output_type": "stream",
     "text": [
      "Display all the cars having mpg more than 20.:\n"
     ]
    },
    {
     "name": "stdout",
     "output_type": "stream",
     "text": [
      "                mpg cyl  disp  hp drat    wt  qsec vs am gear carb\n",
      "Mazda RX4      21.0   6 160.0 110 3.90 2.620 16.46  0  1    4    4\n",
      "Mazda RX4 Wag  21.0   6 160.0 110 3.90 2.875 17.02  0  1    4    4\n",
      "Datsun 710     22.8   4 108.0  93 3.85 2.320 18.61  1  1    4    1\n",
      "Hornet 4 Drive 21.4   6 258.0 110 3.08 3.215 19.44  1  0    3    1\n",
      "Merc 240D      24.4   4 146.7  62 3.69 3.190 20.00  1  0    4    2\n",
      "Merc 230       22.8   4 140.8  95 3.92 3.150 22.90  1  0    4    2\n",
      "Fiat 128       32.4   4  78.7  66 4.08 2.200 19.47  1  1    4    1\n",
      "Honda Civic    30.4   4  75.7  52 4.93 1.615 18.52  1  1    4    2\n",
      "Toyota Corolla 33.9   4  71.1  65 4.22 1.835 19.90  1  1    4    1\n",
      "Toyota Corona  21.5   4 120.1  97 3.70 2.465 20.01  1  0    3    1\n",
      "Fiat X1-9      27.3   4  79.0  66 4.08 1.935 18.90  1  1    4    1\n",
      "Porsche 914-2  26.0   4 120.3  91 4.43 2.140 16.70  0  1    5    2\n",
      "Lotus Europa   30.4   4  95.1 113 3.77 1.513 16.90  1  1    5    2\n",
      "Volvo 142E     21.4   4 121.0 109 4.11 2.780 18.60  1  1    4    2\n"
     ]
    },
    {
     "name": "stderr",
     "output_type": "stream",
     "text": [
      "Subset the data set by mpg column for values greater than 15.0:\n",
      "subset_mtcars:\n"
     ]
    },
    {
     "name": "stdout",
     "output_type": "stream",
     "text": [
      "                   mpg cyl  disp  hp drat    wt  qsec vs am gear carb\n",
      "Mazda RX4         21.0   6 160.0 110 3.90 2.620 16.46  0  1    4    4\n",
      "Mazda RX4 Wag     21.0   6 160.0 110 3.90 2.875 17.02  0  1    4    4\n",
      "Datsun 710        22.8   4 108.0  93 3.85 2.320 18.61  1  1    4    1\n",
      "Hornet 4 Drive    21.4   6 258.0 110 3.08 3.215 19.44  1  0    3    1\n",
      "Hornet Sportabout 18.7   8 360.0 175 3.15 3.440 17.02  0  0    3    2\n",
      "Valiant           18.1   6 225.0 105 2.76 3.460 20.22  1  0    3    1\n",
      "Merc 240D         24.4   4 146.7  62 3.69 3.190 20.00  1  0    4    2\n",
      "Merc 230          22.8   4 140.8  95 3.92 3.150 22.90  1  0    4    2\n",
      "Merc 280          19.2   6 167.6 123 3.92 3.440 18.30  1  0    4    4\n",
      "Merc 280C         17.8   6 167.6 123 3.92 3.440 18.90  1  0    4    4\n",
      "Merc 450SE        16.4   8 275.8 180 3.07 4.070 17.40  0  0    3    3\n",
      "Merc 450SL        17.3   8 275.8 180 3.07 3.730 17.60  0  0    3    3\n",
      "Merc 450SLC       15.2   8 275.8 180 3.07 3.780 18.00  0  0    3    3\n",
      "Fiat 128          32.4   4  78.7  66 4.08 2.200 19.47  1  1    4    1\n",
      "Honda Civic       30.4   4  75.7  52 4.93 1.615 18.52  1  1    4    2\n",
      "Toyota Corolla    33.9   4  71.1  65 4.22 1.835 19.90  1  1    4    1\n",
      "Toyota Corona     21.5   4 120.1  97 3.70 2.465 20.01  1  0    3    1\n",
      "Dodge Challenger  15.5   8 318.0 150 2.76 3.520 16.87  0  0    3    2\n",
      "AMC Javelin       15.2   8 304.0 150 3.15 3.435 17.30  0  0    3    2\n",
      "Pontiac Firebird  19.2   8 400.0 175 3.08 3.845 17.05  0  0    3    2\n",
      "Fiat X1-9         27.3   4  79.0  66 4.08 1.935 18.90  1  1    4    1\n",
      "Porsche 914-2     26.0   4 120.3  91 4.43 2.140 16.70  0  1    5    2\n",
      "Lotus Europa      30.4   4  95.1 113 3.77 1.513 16.90  1  1    5    2\n",
      "Ford Pantera L    15.8   8 351.0 264 4.22 3.170 14.50  0  1    5    4\n",
      "Ferrari Dino      19.7   6 145.0 175 3.62 2.770 15.50  0  1    5    6\n",
      "Volvo 142E        21.4   4 121.0 109 4.11 2.780 18.60  1  1    4    2\n"
     ]
    },
    {
     "name": "stderr",
     "output_type": "stream",
     "text": [
      "subset_mtcars class:\n"
     ]
    },
    {
     "name": "stdout",
     "output_type": "stream",
     "text": [
      "[1] \"data.frame\"\n"
     ]
    },
    {
     "name": "stderr",
     "output_type": "stream",
     "text": [
      "Display all cars having four gears.\n"
     ]
    },
    {
     "name": "stdout",
     "output_type": "stream",
     "text": [
      "                mpg cyl  disp  hp drat    wt  qsec vs am gear carb\n",
      "Mazda RX4      21.0   6 160.0 110 3.90 2.620 16.46  0  1    4    4\n",
      "Mazda RX4 Wag  21.0   6 160.0 110 3.90 2.875 17.02  0  1    4    4\n",
      "Datsun 710     22.8   4 108.0  93 3.85 2.320 18.61  1  1    4    1\n",
      "Merc 240D      24.4   4 146.7  62 3.69 3.190 20.00  1  0    4    2\n",
      "Merc 230       22.8   4 140.8  95 3.92 3.150 22.90  1  0    4    2\n",
      "Merc 280       19.2   6 167.6 123 3.92 3.440 18.30  1  0    4    4\n",
      "Merc 280C      17.8   6 167.6 123 3.92 3.440 18.90  1  0    4    4\n",
      "Fiat 128       32.4   4  78.7  66 4.08 2.200 19.47  1  1    4    1\n",
      "Honda Civic    30.4   4  75.7  52 4.93 1.615 18.52  1  1    4    2\n",
      "Toyota Corolla 33.9   4  71.1  65 4.22 1.835 19.90  1  1    4    1\n",
      "Fiat X1-9      27.3   4  79.0  66 4.08 1.935 18.90  1  1    4    1\n",
      "Volvo 142E     21.4   4 121.0 109 4.11 2.780 18.60  1  1    4    2\n"
     ]
    }
   ],
   "source": [
    "#view dataset mtcars\n",
    "message(\"Dataset mtcars:\")\n",
    "print(mtcars)\n",
    "message(\"Dataset mtcars class:\")\n",
    "print(class(mtcars))\n",
    "# miles per gallon (fuel efficiency) of the cars\n",
    "message(\"Display all the cars having mpg more than 20.:\")\n",
    "mpg20=mtcars[mtcars$mpg>20,]\n",
    "print(mpg20)\n",
    "\n",
    "message(\"Subset the data set by mpg column for values greater than 15.0:\")\n",
    "#load dataset\n",
    "data(mtcars)\n",
    "subset_mtcars=mtcars[mtcars$mpg>15,]\n",
    "message(\"subset_mtcars:\")\n",
    "print(subset_mtcars)\n",
    "message(\"subset_mtcars class:\")\n",
    "print(class(subset_mtcars))\n",
    "\n",
    "message(\"Display all cars having four gears.\")\n",
    "cars4gear=mtcars[mtcars$gear==4,]\n",
    "print(cars4gear)"
   ]
  },
  {
   "cell_type": "code",
   "execution_count": null,
   "id": "5f127353-0728-4288-9acf-6deaad89afb9",
   "metadata": {},
   "outputs": [],
   "source": []
  },
  {
   "cell_type": "code",
   "execution_count": null,
   "id": "7cb35c0e-a25d-4db2-8742-bb6eeca491e8",
   "metadata": {},
   "outputs": [],
   "source": []
  }
 ],
 "metadata": {
  "kernelspec": {
   "display_name": "R",
   "language": "R",
   "name": "ir"
  },
  "language_info": {
   "codemirror_mode": "r",
   "file_extension": ".r",
   "mimetype": "text/x-r-source",
   "name": "R",
   "pygments_lexer": "r",
   "version": "3.6.1"
  }
 },
 "nbformat": 4,
 "nbformat_minor": 5
}
