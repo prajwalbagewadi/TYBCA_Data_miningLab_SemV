{
 "cells": [
  {
   "cell_type": "markdown",
   "id": "a5bbdcf4-55ea-4c81-b07e-3b6f1ee2fc49",
   "metadata": {},
   "source": [
    "## Assignment 1: R Programming Basics Program using List, Matrix, String and\n",
    "## Factors Program using data frame and visualization"
   ]
  },
  {
   "cell_type": "markdown",
   "id": "51d491eb-6d2a-41d2-8978-97343496451a",
   "metadata": {},
   "source": [
    "R language :\n",
    "\n",
    "R programming is one of the most popular languages used in data science, statistical\n",
    "computations or scientific research."
   ]
  },
  {
   "cell_type": "code",
   "execution_count": 8,
   "id": "396dd4bc-c9aa-4252-a74b-53b9218f12a5",
   "metadata": {},
   "outputs": [],
   "source": [
    "#R language Comments \n",
    "# syntax :\n",
    "# comment Statement\n",
    "#single-line comment\n",
    "\n",
    "# this is \n",
    "# a multi-line \n",
    "# comment"
   ]
  },
  {
   "cell_type": "code",
   "execution_count": 54,
   "id": "df6168d5-1647-4cca-bce4-66028e89b501",
   "metadata": {},
   "outputs": [
    {
     "data": {
      "text/html": [
       "'Ella'"
      ],
      "text/latex": [
       "'Ella'"
      ],
      "text/markdown": [
       "'Ella'"
      ],
      "text/plain": [
       "[1] \"Ella\""
      ]
     },
     "metadata": {},
     "output_type": "display_data"
    },
    {
     "name": "stdout",
     "output_type": "stream",
     "text": [
      "[1] \"Ella\"\n",
      "[1] \"Elliot\"\n"
     ]
    },
    {
     "data": {
      "text/html": [
       "'Hello to world'"
      ],
      "text/latex": [
       "'Hello to world'"
      ],
      "text/markdown": [
       "'Hello to world'"
      ],
      "text/plain": [
       "[1] \"Hello to world\""
      ]
     },
     "metadata": {},
     "output_type": "display_data"
    },
    {
     "name": "stdout",
     "output_type": "stream",
     "text": [
      "[1] \"addition of 12.000000 + 34.500000 = 46.500000\"\n"
     ]
    },
    {
     "name": "stderr",
     "output_type": "stream",
     "text": [
      "var1=12\n",
      "class() function:12numeric\n",
      "ls() function:abcresultvarvar1var2\n"
     ]
    },
    {
     "data": {
      "text/html": [
       "'rm() function:'"
      ],
      "text/latex": [
       "'rm() function:'"
      ],
      "text/markdown": [
       "'rm() function:'"
      ],
      "text/plain": [
       "[1] \"rm() function:\""
      ]
     },
     "metadata": {},
     "output_type": "display_data"
    },
    {
     "ename": "ERROR",
     "evalue": "Error in print(result): object 'result' not found\n",
     "output_type": "error",
     "traceback": [
      "Error in print(result): object 'result' not found\nTraceback:\n",
      "1. print(result)"
     ]
    }
   ],
   "source": [
    "#Variables in R language \n",
    "\n",
    "#R Programming Language is a dynamically typed language, \n",
    "#i.e. the R Language Variables are not declared with a data type \n",
    "#rather they take the data type of the R-object assigned to them.\n",
    "\n",
    "#Declaring and initializing variable in R :\n",
    "#assignment \n",
    "\n",
    "#using equal to operator\n",
    "var = \"Ella\"\n",
    "var #auto-print the value of the name variable\n",
    "print(var) #print the value of the name variable\n",
    "\n",
    "#using leftward operator\n",
    "a <- \"world\"\n",
    "c <- \"to\"\n",
    "b <- \"Hello\"\n",
    "print(\"Elliot\")\n",
    "paste(b,c,a) \n",
    "#paste() method in R programming is used to concatenate \n",
    "#The two string values are separated by delimiters.\n",
    "#Syntax: paste(string1, string2, sep=)\n",
    "#Return: Returns the concatenated string.\n",
    "\n",
    "#Sprintf() : sprintf() is basically a C library function. \n",
    "#This function is use to print string as C language. \n",
    "#This is working as a wrapper function to print values and strings \n",
    "#together like C language. \n",
    "#This function returns a character vector containing a \n",
    "#formatted combination of string and variable to be printed.\n",
    "\n",
    "#using the Rightward operator\n",
    "12.0 -> var1\n",
    "34.5 -> var2\n",
    "result=sprintf(\"addition of %f + %f = %f\",var1,var2,var1+var2)\n",
    "print(result)\n",
    "message(\"var1=\",var1)\n",
    "\n",
    "#class() function: \n",
    "#This built-in function is used to determine the data type of the variable\n",
    "message(\"class() function:\",paste(var1),class(var1))\n",
    "\n",
    "#ls() function:\n",
    "#This built-in function is used to know all the present variables in the workspace.\n",
    "message(\"ls() function:\",ls())\n",
    "\n",
    "#rm() function:\n",
    "#This is again a built-in function used to \n",
    "#delete an unwanted variable within your workspace.\n",
    "#This helps clear the memory space allocated to certain variables \n",
    "#that are not in use thereby creating more space for others. \n",
    "#The name of the variable to be deleted is passed as an argument to it.\n",
    "paste(\"rm() function:\")\n",
    "rm(result)\n",
    "print(result)"
   ]
  },
  {
   "cell_type": "code",
   "execution_count": 54,
   "id": "bd154e05-88ba-4693-b79f-cae46bcb6433",
   "metadata": {},
   "outputs": [
    {
     "name": "stderr",
     "output_type": "stream",
     "text": [
      "numeric=12.1234512345123\n",
      "numeric class=numeric\n",
      "numeric typeof=double\n",
      "integer=12\n",
      "integer class=integer\n",
      "integer typeof=integer\n",
      "integer11\n",
      "integer class=integer\n",
      "integer typeof=integer\n",
      "logical=FALSE\n",
      "logical class=logical\n",
      "logical typeof=logical\n",
      "Complex=2+5i\n",
      "Complex class=complex\n",
      "Complex typeof=complex\n",
      "Character=a\n",
      "Character=String\n",
      "Character class=character\n",
      "Character class=character\n",
      "Character typeof=character\n",
      "Character typeof=character\n",
      "intvar type=integer\n"
     ]
    },
    {
     "name": "stdout",
     "output_type": "stream",
     "text": [
      "[1] 17\n",
      "[1] 50 72 61 6a 77 61 6c\n"
     ]
    }
   ],
   "source": [
    "#Data Types in R language \n",
    "\n",
    "#Numeric :\n",
    "#Set of all real numbers \n",
    "#\"numeric_value <- 3.14\"\n",
    "num <- 12.1234512345123451\n",
    "message(\"numeric=\",num)\n",
    "message(\"numeric class=\",class(num))\n",
    "message(\"numeric typeof=\",typeof(num))\n",
    "\n",
    "#integer\n",
    "#Set of all integers, Z\n",
    "#\"integer_value <- 42L\"\n",
    "varint=as.integer(12)\n",
    "message(\"integer=\",varint)\n",
    "message(\"integer class=\",class(varint))\n",
    "message(\"integer typeof=\",typeof(varint))\n",
    "varint=11L\n",
    "message(\"integer\",varint)\n",
    "message(\"integer class=\",class(varint))\n",
    "message(\"integer typeof=\",typeof(varint))\n",
    "\n",
    "#Logical\n",
    "#TRUE and FALSE\t\n",
    "#\"logical_value <- TRUE\"\n",
    "a=10L\n",
    "b=25L\n",
    "cmp=a>b\n",
    "message(\"logical=\",cmp)\n",
    "message(\"logical class=\",class(cmp))\n",
    "message(\"logical typeof=\",typeof(cmp))\n",
    "\n",
    "#Complex\n",
    "#Set of complex numbers\t\n",
    "#\"complex_value <- 1 + 2i\"\n",
    "cmplex=2+5i;\n",
    "message(\"Complex=\",cmplex)\n",
    "message(\"Complex class=\",class(cmplex))\n",
    "message(\"Complex typeof=\",typeof(cmplex))\n",
    "\n",
    "#Character\n",
    "#“a”, “b”, “c”, …, “@”, “#”, “$”, …., “1”, “2”, …etc\t\n",
    "#\"character_value <- \"Hello Geeks\"\n",
    "char1<-\"a\";\n",
    "char2<-\"String\";\n",
    "message(\"Character=\",char1)\n",
    "message(\"Character=\",char2)\n",
    "message(\"Character class=\",class(char1))\n",
    "message(\"Character class=\",class(char2))\n",
    "message(\"Character typeof=\",typeof(char1))\n",
    "message(\"Character typeof=\",typeof(char2))\n",
    "\n",
    "#raw\n",
    "#as.raw()\t\n",
    "#\"single_raw <- as.raw(255)\"\n",
    "#In R, the raw data type stores data as raw bytes, \n",
    "# and is often used to handle binary data. \n",
    "# It's the simplest R object and allows you to view variables as a sequence of bytes. \n",
    "# charToRaw() \n",
    "# rawToChar()\n",
    "# intToBits()\n",
    "intvar=as.integer(23)\n",
    "message(\"intvar type=\",typeof(intvar))\n",
    "var_raw=as.raw(intvar)\n",
    "#output:17 decimal to hexadecimal\n",
    "print(var_raw)\n",
    "# var=intToBits(num)\n",
    "# print(var)\n",
    "str=\"Prajwal\"\n",
    "var=charToRaw(str) \n",
    "# output:50 72 61 6a 77 61 6c hexadecimal byte for Prajwal\n",
    "print(var)"
   ]
  },
  {
   "cell_type": "code",
   "execution_count": null,
   "id": "a33f0e68-8da6-4d0a-bc34-e57c88b0343e",
   "metadata": {},
   "outputs": [],
   "source": [
    "#Operators in R language\n",
    "\n",
    "In R, operators are used to perform various operations on variables and values. Here’s a comprehensive overview of different types of operators available in R:\n",
    "\n",
    "1. Arithmetic Operators\n",
    "Arithmetic operators are used to perform basic mathematical operations:\n",
    "+ : Addition\n",
    "- : Subtraction\n",
    "* : Multiplication\n",
    "/ : Division\n",
    "^ or ** : Exponentiation\n",
    "%% : Modulus (remainder of the division)\n",
    "%/% : Integer Division\n",
    "\n",
    "2. Relational Operators\n",
    "Relational operators are used to compare two values:\n",
    "== : Equal to\n",
    "!= : Not equal to\n",
    "> : Greater than\n",
    "< : Less than\n",
    ">= : Greater than or equal to\n",
    "<= : Less than or equal to\n",
    "\n",
    "3. Logical Operators\n",
    "Logical operators are used to combine conditional statements:\n",
    "& : Element-wise logical AND\n",
    "| : Element-wise logical OR\n",
    "! : Logical NOT\n",
    "&& : Logical AND (evaluates only the first element)\n",
    "|| : Logical OR (evaluates only the first element)\n",
    "\n",
    "4. Assignment Operators\n",
    "Assignment operators are used to assign values to variables:\n",
    "<- : Leftward assignment\n",
    "-> : Rightward assignment\n",
    "= : Leftward assignment\n",
    "\n",
    "5. Miscellaneous Operators\n",
    ": : Sequence generation\n",
    "%in% : Membership (checks if an element belongs to a vector)\n",
    "~ : Formula specification (used in modeling functions)\n",
    "                   \n",
    "6. Indexing and Subsetting Operators\n",
    "[ ] : Indexing and subsetting\n",
    "[[ ]] : Extracting elements from a list\n",
    "$ : Accessing elements of a list or data frame by name"
   ]
  },
  {
   "cell_type": "markdown",
   "id": "d4cbd2f2-c7bf-4a34-a00d-d99366b92782",
   "metadata": {},
   "source": [
    "## Vector"
   ]
  },
  {
   "cell_type": "markdown",
   "id": "0b33cd54-308e-455e-8ffc-78187f1bc9a8",
   "metadata": {},
   "source": [
    "A vector is a sequence of elements that share the same data type. \n",
    "These elements are known as components of a vector.\n",
    "R vector is the basic data structure,\n",
    "\n",
    "Vectors\n",
    "in R are same as the arrays in C language which hold multiple data values of the same type.\n",
    "One major key point is that in R the indexing of the vector will start from ‘1’ and not from\n",
    "‘0’. We can create numeric vectors and character vectors as well.\n",
    "\n",
    "R vector comes in two parts: Atomic vectors and Lists.\r",
    " These data structures differ in the type of their elements\n",
    "Atomic vectors :  All elements of an atomi \r\n",
    "vector must be of the same type\n",
    "Lists : s the elements of a list can have differe t\r\n",
    "types."
   ]
  },
  {
   "cell_type": "markdown",
   "id": "15fb7af3-9693-4e8e-97b9-b56472d6d9bb",
   "metadata": {},
   "source": [
    "The c ():\n",
    "function in R is used to create vectors by combining multiple values into a single vector. \n",
    "It stands for \"combine\" or \"concatenate\". Here's a basic overview of how it works:\n",
    "\n",
    "Syntax R\n",
    "c(value1, value2, value3, ...)"
   ]
  },
  {
   "cell_type": "code",
   "execution_count": 6,
   "id": "6d4b8ff0-5f73-4c12-90cd-dea3823b6c38",
   "metadata": {},
   "outputs": [
    {
     "name": "stderr",
     "output_type": "stream",
     "text": [
      "v1 class=numeric\n",
      "v1 typeof=double\n",
      "printing vector v1=\n"
     ]
    },
    {
     "name": "stdout",
     "output_type": "stream",
     "text": [
      "[1] 12.0  3.4  5.7  8.9\n"
     ]
    },
    {
     "name": "stderr",
     "output_type": "stream",
     "text": [
      "v2 class=integer\n",
      "v2 typeof=integer\n",
      "printing vector v2=\n"
     ]
    },
    {
     "name": "stdout",
     "output_type": "stream",
     "text": [
      "[1] 5 5 5 5\n"
     ]
    },
    {
     "name": "stderr",
     "output_type": "stream",
     "text": [
      "v3 class=integer\n",
      "v3 typeof=integer\n",
      "printing vector v3=\n"
     ]
    },
    {
     "name": "stdout",
     "output_type": "stream",
     "text": [
      "[1] 2 3 4 5\n"
     ]
    },
    {
     "name": "stderr",
     "output_type": "stream",
     "text": [
      "v4 class=character\n",
      "v4 typeof=character\n",
      "printing vector v4=\n"
     ]
    },
    {
     "name": "stdout",
     "output_type": "stream",
     "text": [
      "[1] \"a\"    \"abc\"  \"abcd\"\n"
     ]
    },
    {
     "name": "stderr",
     "output_type": "stream",
     "text": [
      "v5 class=logical\n",
      "v5 typeof=logical\n",
      "printing vector v5=\n"
     ]
    },
    {
     "name": "stdout",
     "output_type": "stream",
     "text": [
      "[1]  TRUE FALSE    NA  TRUE\n"
     ]
    },
    {
     "name": "stderr",
     "output_type": "stream",
     "text": [
      "v6 class=character\n",
      "v6 typeof=character\n",
      "printing vector v6=\n"
     ]
    },
    {
     "name": "stdout",
     "output_type": "stream",
     "text": [
      "[1] \"apple\" \"12\"    \"12\"    \"FALSE\"\n"
     ]
    }
   ],
   "source": [
    "#Types of Atomic Vector\n",
    "\n",
    "#1. Numeric Data Type - Decimal values are referred to as numeric data types in R.\n",
    "v1 <- c(12,3.4,5.7,8.9000)\n",
    "message(\"v1 class=\",class(v1))\n",
    "message(\"v1 typeof=\",typeof(v1))\n",
    "message(\"printing vector v1=\") \n",
    "print(v1)\n",
    "\n",
    "#2. Integer Data Type - A numeric value with no fraction called integer data is represented by “Int”.\n",
    "v2 <- c(as.integer(5),as.integer(5),as.integer(5),as.integer(5))\n",
    "message(\"v2 class=\",class(v2))\n",
    "message(\"v2 typeof=\",typeof(v2))\n",
    "message(\"printing vector v2=\") \n",
    "print(v2)\n",
    "v3 <- c(2L,3L,4L,5L)        \n",
    "message(\"v3 class=\",class(v3))\n",
    "message(\"v3 typeof=\",typeof(v3))\n",
    "message(\"printing vector v3=\") \n",
    "print(v3)\n",
    "\n",
    "#3. Character Data Type - The character is held as the one-byte integer in memory\n",
    "v4 <-c('a','abc','abcd')\n",
    "message(\"v4 class=\",class(v4))\n",
    "message(\"v4 typeof=\",typeof(v4))\n",
    "message(\"printing vector v4=\") \n",
    "print(v4)\n",
    "\n",
    "#4. Logical Data Type - A logical data type returns either of the two values – TRUE or \n",
    "#FALSE based on which condition is satisfied and NA for NULL values.\n",
    "v5=c(TRUE,FALSE,NA,TRUE)\n",
    "message(\"v5 class=\",class(v5))\n",
    "message(\"v5 typeof=\",typeof(v5))\n",
    "message(\"printing vector v5=\") \n",
    "print(v5)\n",
    "\n",
    "#5. Mixed Vector\n",
    "v6 <-c(\"apple\",12.0,12L,FALSE)\n",
    "message(\"v6 class=\",class(v6))\n",
    "message(\"v6 typeof=\",typeof(v6))\n",
    "message(\"printing vector v6=\") \n",
    "print(v6)    \n",
    "\n"
   ]
  },
  {
   "cell_type": "code",
   "execution_count": null,
   "id": "b13df3a5-a054-4f40-9a52-2de0a32d15b8",
   "metadata": {},
   "outputs": [],
   "source": [
    "2. Using the ‘:’ Operator: We can create a vector with the help of the colon operator to\n",
    "create vector of continuous values"
   ]
  },
  {
   "cell_type": "code",
   "execution_count": 34,
   "id": "51cd7a0b-5355-45a8-a41d-add59f3755eb",
   "metadata": {},
   "outputs": [
    {
     "name": "stdout",
     "output_type": "stream",
     "text": [
      "vect= 1 2 3 4 5 class= integer length= 5"
     ]
    }
   ],
   "source": [
    "Vect=1:5\n",
    "cat(\"vect=\",Vect,\"class=\",class(Vect),\"length=\",length(Vect))"
   ]
  },
  {
   "cell_type": "code",
   "execution_count": null,
   "id": "6afdd3d5-5880-4921-98ed-307ab3c6c107",
   "metadata": {},
   "outputs": [],
   "source": [
    "3. Using the seq() function - In R, we can create a vector with the help of the seq()\n",
    "function. A sequence function creates a sequence of elements as a vector. There are\n",
    "also two ways in this. The first way is to set the step size and the second method is by\n",
    "setting the length of the vector."
   ]
  },
  {
   "cell_type": "code",
   "execution_count": null,
   "id": "68c30580-bf2d-4e82-a388-48d33d8e70d3",
   "metadata": {},
   "outputs": [],
   "source": [
    "The seq() function in R is used to generate sequences of numbers. \n",
    "It is a versatile function with several parameters that allow you to create sequences with different characteristics.\n",
    "\n",
    "Syntax R :\n",
    "seq(from, to, by, length.out, along.with, ...)\n",
    "\n",
    "Parameters :\n",
    "from: The starting value of the sequence.\n",
    "to: The ending value of the sequence.\n",
    "by: The increment of the sequence.\n",
    "length.out: The desired length of the sequence.\n",
    "along.with: Takes the length of this argument to determine the sequence length."
   ]
  },
  {
   "cell_type": "code",
   "execution_count": 82,
   "id": "220a8176-f3ad-43db-bc81-c557ab67792b",
   "metadata": {},
   "outputs": [
    {
     "name": "stdout",
     "output_type": "stream",
     "text": [
      "Seq_v= 1 2 3 4 5 class= integer length= 5 \n",
      "var1= 1 class= integer length= 1 \n",
      "var2= 100 class= integer length= 1 \n",
      "Seq_v2= 1 50.5 100 class= numeric length= 3 \n",
      "Seq_v= 1 3 5 class= numeric length= 3 \n",
      "Seq_v= 5 3 1 class= numeric length= 3 \n",
      "Seq_v= 5 4 3 2 1 0 -1 -2 -3 -4 class= numeric length= 10 \n"
     ]
    }
   ],
   "source": [
    "#from,to\n",
    "Seq_v <- seq(from=as.integer(1),to=as.integer(5))\n",
    "cat(\"Seq_v=\",Seq_v,\"class=\",class(Seq_v),\"length=\",length(Seq_v),\"\\n\")\n",
    "\n",
    "#along.with\n",
    "var1=1L;\n",
    "var2=100L;\n",
    "cat(\"var1=\",var1,\"class=\",class(var1),\"length=\",length(var1),\"\\n\")\n",
    "cat(\"var2=\",var2,\"class=\",class(var2),\"length=\",length(var2),\"\\n\")\n",
    "vectlen=c(1,2,3)\n",
    "Seq_v2 <- seq(var1,var2,along.with=vectlen)\n",
    "cat(\"Seq_v2=\",Seq_v2,\"class=\",class(Seq_v2),\"length=\",length(Seq_v2),\"\\n\")\n",
    "\n",
    "#by\n",
    "Seq_v <- seq(from=as.integer(1),to=as.integer(5),by=2)\n",
    "cat(\"Seq_v=\",Seq_v,\"class=\",class(Seq_v),\"length=\",length(Seq_v),\"\\n\")\n",
    "\n",
    "#by to reverse a seqence\n",
    "Seq_v <- seq(from=as.integer(5),to=as.integer(1),by= -2)\n",
    "cat(\"Seq_v=\",Seq_v,\"class=\",class(Seq_v),\"length=\",length(Seq_v),\"\\n\")\n",
    "\n",
    "#length.out\n",
    "Seq_v <- seq(from=as.integer(5),by= -1,length.out=10)\n",
    "cat(\"Seq_v=\",Seq_v,\"class=\",class(Seq_v),\"length=\",length(Seq_v),\"\\n\")"
   ]
  },
  {
   "cell_type": "code",
   "execution_count": 15,
   "id": "2cfcb16d-f7f2-486e-8b27-ac54fe97ec1e",
   "metadata": {},
   "outputs": [
    {
     "name": "stdout",
     "output_type": "stream",
     "text": [
      "element using index= 5 \n",
      "using range in vector index= 10 20 \n",
      "using logical expression= 10 15 20 25 \n",
      "indexing using character vector= 50000 \n",
      "index using logical vector= 1 8 \n"
     ]
    }
   ],
   "source": [
    "#Access Elements of R Vector\n",
    "\n",
    "#Access elements using index, indexing starts with 1 instead of 0\n",
    "x<-c(1,5,10,15,20,25)\n",
    "cat(\"element using index=\",x[2],\"\\n\")\n",
    "\n",
    "# by passing a range of values inside the vector index.\n",
    "cat(\"using range in vector index=\",x[c(3,5)],\"\\n\")\n",
    "\n",
    "# using logical expressions\n",
    "cat(\"using logical expression=\",x[x>5],\"\\n\")\n",
    "\n",
    "#indexing using character vector\n",
    "char_vect<-c(\"prajwal\"=15000,\"kajal\"=50000,\"amit\"=23000)\n",
    "cat(\"indexing using character vector=\",char_vect[\"kajal\"],\"\\n\")\n",
    "\n",
    "#indexing using logical vector it returns the values of those positions whose\n",
    "#corresponding position has a logical vector TRUE.\n",
    "y<-c(1,2,4,8,16)\n",
    "cat(\"index using logical vector=\",y[c(TRUE,FALSE,FALSE,TRUE,FALSE)],\"\\n\")"
   ]
  },
  {
   "cell_type": "markdown",
   "id": "5e2b1dae-4dc2-42dd-bd8e-cfe9973d8543",
   "metadata": {},
   "source": [
    "## SetA "
   ]
  },
  {
   "cell_type": "markdown",
   "id": "6e5d2265-0c25-4c73-839f-ff9789dec5db",
   "metadata": {},
   "source": [
    "## Set A\n",
    "## 1. Write a R program to add, multiply and divide two vectors of integer type. (vector\n",
    "## length should be minimum 4)"
   ]
  },
  {
   "cell_type": "code",
   "execution_count": null,
   "id": "6a6583f5-0393-4693-954f-5ad87ab58dd2",
   "metadata": {},
   "outputs": [],
   "source": [
    "User Input :\n",
    "In R, you can take input from the user using the readline() function for simple text input. \n",
    "For more complex or multiple inputs, you can use scan().\n",
    "\n",
    "# Prompt the user and take input\n",
    "name <- readline(prompt = \"Enter your name: \")\n",
    "print(paste(\"Hello,\", name))\n",
    "\n",
    "# Prompt the user and take numeric input\n",
    "age <- as.numeric(readline(prompt = \"Enter your age: \"))\n",
    "print(paste(\"You are\", age, \"years old.\"))\n",
    "\n",
    "# Prompt the user to enter multiple numbers\n",
    "cat(\"Enter numbers separated by space (press Enter to finish): \")\n",
    "numbers <- scan()\n",
    "print(numbers)\n",
    "\n",
    "# Prompt the user to enter multiple characters\n",
    "cat(\"Enter words separated by space (press Enter to finish): \")\n",
    "words <- scan(what = character())\n",
    "print(words)"
   ]
  },
  {
   "cell_type": "code",
   "execution_count": null,
   "id": "301a55a7-0340-41d6-b758-51df36e20698",
   "metadata": {},
   "outputs": [],
   "source": [
    "scan() function in R Language is used to scan and read data.\n",
    "It is usually used to read data into vector or list or from file in R Language.\n",
    "\n",
    "Syntax:\n",
    "scan(“data.txt”, what = “character”)\n",
    "\n",
    "Parameter:\n",
    "data.txt: Text file to be scanned\n",
    "\n",
    "Returns: Scanned output"
   ]
  },
  {
   "cell_type": "code",
   "execution_count": 26,
   "id": "1c363507-268b-493a-92e2-dd7a56e95b66",
   "metadata": {},
   "outputs": [
    {
     "name": "stderr",
     "output_type": "stream",
     "text": [
      "class=v1=numeric\n",
      "class=intV1=integer\n",
      "Length=intV1=5\n"
     ]
    },
    {
     "name": "stdout",
     "output_type": "stream",
     "text": [
      "[1] 1 2 3 4 5\n"
     ]
    },
    {
     "name": "stderr",
     "output_type": "stream",
     "text": [
      "class=v2=numeric\n",
      "class=intV2=integer\n",
      "Length=intV2=5\n"
     ]
    },
    {
     "name": "stdout",
     "output_type": "stream",
     "text": [
      "[1] 5 4 3 2 1\n"
     ]
    },
    {
     "name": "stderr",
     "output_type": "stream",
     "text": [
      "class=vectAdd=integer\n"
     ]
    },
    {
     "name": "stdout",
     "output_type": "stream",
     "text": [
      "[1] 6 6 6 6 6\n"
     ]
    },
    {
     "name": "stderr",
     "output_type": "stream",
     "text": [
      "class=vectMul=integer\n"
     ]
    },
    {
     "name": "stdout",
     "output_type": "stream",
     "text": [
      "[1] 5 8 9 8 5\n"
     ]
    },
    {
     "name": "stderr",
     "output_type": "stream",
     "text": [
      "class=vectDiv=numeric\n"
     ]
    },
    {
     "name": "stdout",
     "output_type": "stream",
     "text": [
      "[1] 0.2 0.5 1.0 2.0 5.0\n"
     ]
    }
   ],
   "source": [
    "#question\n",
    "#vector 1 \n",
    "v1=c(1,2,3,4,5)\n",
    "message(\"class=v1=\",class(v1))\n",
    "intV1=as.integer(v1)\n",
    "message(\"class=intV1=\",class(intV1)) \n",
    "message(\"Length=intV1=\",length(intV1)) #find the length of Vector\n",
    "print(intV1)\n",
    "\n",
    "v2=c(5,4,3,2,1)\n",
    "message(\"class=v2=\",class(v2))\n",
    "intV2=as.integer(v2)\n",
    "message(\"class=intV2=\",class(intV2))\n",
    "message(\"Length=intV2=\",length(intV2)) #find the length of Vector\n",
    "print(intV2)\n",
    "\n",
    "vectAdd=intV1+intV2\n",
    "message(\"class=vectAdd=\",class(vectAdd))\n",
    "print(vectAdd)\n",
    "\n",
    "vectMul=intV1*intV2\n",
    "message(\"class=vectMul=\",class(vectMul))\n",
    "print(vectMul)\n",
    "\n",
    "vectDiv=intV1/intV2\n",
    "message(\"class=vectDiv=\",class(vectDiv))\n",
    "print(vectDiv)"
   ]
  },
  {
   "cell_type": "markdown",
   "id": "27cc9831-fe6d-4a65-b81c-d3333a76df72",
   "metadata": {},
   "source": [
    "## 2. Write a R program to calculate the multiplication table using a function."
   ]
  },
  {
   "cell_type": "code",
   "execution_count": null,
   "id": "8c9f3a85-bdb1-41aa-8b5f-40dc2c11f996",
   "metadata": {},
   "outputs": [],
   "source": [
    "#function Syntax:\n",
    "function_name <- function(arg1, arg2, ...) {\n",
    "  # Body of the function\n",
    "  # Perform operations using arg1, arg2, ...\n",
    "  return(value)\n",
    "}"
   ]
  },
  {
   "cell_type": "code",
   "execution_count": 1,
   "id": "dd8dcd0f-4c42-4716-8f03-33db50e98595",
   "metadata": {},
   "outputs": [
    {
     "name": "stdout",
     "output_type": "stream",
     "text": [
      "hello R lang"
     ]
    }
   ],
   "source": [
    "#simple function\n",
    "sayHi <- function(){\n",
    "    cat(\"hello R lang\")\n",
    "}\n",
    "\n",
    "sayHi()"
   ]
  },
  {
   "cell_type": "code",
   "execution_count": 3,
   "id": "6661d661-b5e1-40fb-80d6-6cfb7b901e6f",
   "metadata": {},
   "outputs": [
    {
     "name": "stdout",
     "output_type": "stream",
     "text": [
      "i= 1  i= 2  i= 3  i= 4  i= 5  \n",
      "i= 1i= 2i= 3i= 4i= 5\n",
      "i= 1i= 2i= 3i= 4i= 5"
     ]
    }
   ],
   "source": [
    "#loops \n",
    "\n",
    "#for loop\n",
    "for(i in 1:5){\n",
    "    cat(\"i=\",i,\" \")\n",
    "}\n",
    "cat(\"\\n\")\n",
    "\n",
    "#while\n",
    "i=1\n",
    "while(i<=5){\n",
    "    cat(\"i=\",i)\n",
    "    i=i+1\n",
    "}\n",
    "cat(\"\\n\")\n",
    "\n",
    "#repeat\n",
    "i=1\n",
    "repeat{\n",
    "    cat(\"i=\",i)\n",
    "    if(i==5){\n",
    "        break\n",
    "    }\n",
    "    i=i+1\n",
    "}"
   ]
  },
  {
   "cell_type": "code",
   "execution_count": 34,
   "id": "90702489-9ffd-40a7-bef2-45fcbd325d61",
   "metadata": {},
   "outputs": [
    {
     "name": "stdout",
     "output_type": "stream",
     "text": [
      "Tables in R: \n"
     ]
    },
    {
     "name": "stdin",
     "output_type": "stream",
     "text": [
      "enter num: 4\n",
      "enter size: 10\n"
     ]
    },
    {
     "name": "stdout",
     "output_type": "stream",
     "text": [
      "4 * 1 = 4 \n",
      "4 * 2 = 8 \n",
      "4 * 3 = 12 \n",
      "4 * 4 = 16 \n",
      "4 * 5 = 20 \n",
      "4 * 6 = 24 \n",
      "4 * 7 = 28 \n",
      "4 * 8 = 32 \n",
      "4 * 9 = 36 \n",
      "4 * 10 = 40 \n"
     ]
    }
   ],
   "source": [
    "#question\n",
    "tables<-function(arg1,size){\n",
    "    var=as.integer(arg1)\n",
    "    for(i in 1:size) {\n",
    "        cat(var,\"*\",i,\"=\",var*i,\"\\n\")\n",
    "    }\n",
    "}\n",
    "\n",
    "cat(\"Tables in R: \\n\")\n",
    "num<-as.integer(readline(\"enter num:\"))\n",
    "size<-as.integer(readline(\"enter size:\"))\n",
    "tables(num,size)"
   ]
  },
  {
   "cell_type": "markdown",
   "id": "336b9244-2cba-4371-9f91-99f3bb976b0f",
   "metadata": {},
   "source": [
    "## 3. Write a R program to sort a list of strings in ascending and descending order."
   ]
  },
  {
   "cell_type": "code",
   "execution_count": null,
   "id": "6837e713-b1aa-4692-a11d-08e7e00360c7",
   "metadata": {},
   "outputs": [],
   "source": [
    "In R, lists :\n",
    "are the second type of vector. Lists are the objects of R which contain elements of\n",
    "different types such as number, vectors, string and another list inside it. It can also contain a\n",
    "function or a matrix as its elements. A list is a data structure which has components of mixed\n",
    "data types."
   ]
  },
  {
   "cell_type": "code",
   "execution_count": null,
   "id": "213f2f69-d6bc-42a9-af51-0ede64bef367",
   "metadata": {},
   "outputs": [],
   "source": [
    "The process of creating a list :\n",
    "is the same as a vector. In R, the vector is created with the help\n",
    "of c() function. Like c() function, there is another function, i.e., list() which is used to create a\n",
    "list in R."
   ]
  },
  {
   "cell_type": "code",
   "execution_count": null,
   "id": "aac88d8f-4b2e-4385-8198-874c07f4340a",
   "metadata": {},
   "outputs": [],
   "source": [
    "A list avoid the drawback of the vector which is data type. We can add the elements\n",
    "in the list of different data types."
   ]
  },
  {
   "cell_type": "code",
   "execution_count": 13,
   "id": "24bb529e-7cf0-496d-a658-5c53ecd309ab",
   "metadata": {},
   "outputs": [
    {
     "name": "stderr",
     "output_type": "stream",
     "text": [
      "Access list using index:\n"
     ]
    },
    {
     "name": "stdout",
     "output_type": "stream",
     "text": [
      "[[1]]\n",
      "[1] \"a\" \"b\" \"c\" \"d\"\n",
      "\n"
     ]
    },
    {
     "data": {
      "text/html": [
       "<ol>\n",
       "\t<li>'apple'</li>\n",
       "\t<li>'samsung'</li>\n",
       "\t<li><ol class=list-inline>\n",
       "\t<li>34000</li>\n",
       "\t<li>75000</li>\n",
       "</ol>\n",
       "</li>\n",
       "</ol>\n"
      ],
      "text/latex": [
       "\\begin{enumerate}\n",
       "\\item 'apple'\n",
       "\\item 'samsung'\n",
       "\\item \\begin{enumerate*}\n",
       "\\item 34000\n",
       "\\item 75000\n",
       "\\end{enumerate*}\n",
       "\n",
       "\\end{enumerate}\n"
      ],
      "text/markdown": [
       "1. 'apple'\n",
       "2. 'samsung'\n",
       "3. 1. 34000\n",
       "2. 75000\n",
       "\n",
       "\n",
       "\n",
       "\n",
       "\n"
      ],
      "text/plain": [
       "[[1]]\n",
       "[1] \"apple\"\n",
       "\n",
       "[[2]]\n",
       "[1] \"samsung\"\n",
       "\n",
       "[[3]]\n",
       "[1] 34000 75000\n"
      ]
     },
     "metadata": {},
     "output_type": "display_data"
    }
   ],
   "source": [
    "#list Eg1\n",
    "\n",
    "empid=c(1,2,3,4)\n",
    "\n",
    "empnames=c(\"a\",\"b\",\"c\",\"d\")\n",
    "\n",
    "empcount=4\n",
    "\n",
    "empDetailList=list(empid,empnames,empcount)\n",
    "\n",
    "message(\"Access list using index:\")\n",
    "print(empDetails[2])\n",
    "\n",
    "# list Eg2\n",
    "list2=list(\"apple\",\"samsung\",c(34000,75000))\n",
    "list2"
   ]
  },
  {
   "cell_type": "code",
   "execution_count": null,
   "id": "672e83e5-cf81-4155-9c2d-d88c7d7e3e05",
   "metadata": {},
   "outputs": [],
   "source": [
    "sort() function is used with the help of which we can\n",
    "sort the values in ascending or descending order.\n",
    "sort in descending order by setting decreasing as TRUE\n",
    "\n",
    "unlist()\n",
    "unlist() is used to convert the list to a vector \n",
    "because the sort() function works on vectors.\n",
    "After sorting, sorted_list contains the sorted elements of the original list."
   ]
  },
  {
   "cell_type": "code",
   "execution_count": 26,
   "id": "708421cb-a471-4f6e-967d-4a1453849fa7",
   "metadata": {},
   "outputs": [
    {
     "name": "stdout",
     "output_type": "stream",
     "text": [
      "str list in Ascending order= Apple Ball Cat Dog class= character \n",
      "str list in Descending order= Dog Cat Ball Apple class= character \n"
     ]
    }
   ],
   "source": [
    "#question\n",
    "#list\n",
    "strList=list(\"Ball\",\"Cat\",\"Apple\",\"Dog\")\n",
    "\n",
    "Asc_sort_list=sort(unlist(strList))\n",
    "cat(\"str list in Ascending order=\",Asc_sort_list,\"class=\",class(Asc_sort_list),\"\\n\")\n",
    "\n",
    "Desc_sort_list=sort(unlist(strList),decreasing=TRUE)\n",
    "cat(\"str list in Descending order=\",Desc_sort_list,\"class=\",class(Desc_sort_list),\"\\n\")"
   ]
  },
  {
   "cell_type": "markdown",
   "id": "77eb33ec-b224-48dc-939b-3eae1a904c5e",
   "metadata": {},
   "source": [
    "## 4. Write a script in R to create a list of employees and perform the following:\n",
    "## a. Display names of employees in the list.\n",
    "## b. Add an employee at the end of the list.\n",
    "## c. Remove the third element of the list."
   ]
  },
  {
   "cell_type": "code",
   "execution_count": null,
   "id": "d4dba442-c8d1-47dd-b793-5a0a765d9e7f",
   "metadata": {},
   "outputs": [],
   "source": [
    "R allows us to add, delete, or update elements in the list. We can update an element of a list\n",
    "from anywhere, but elements can add or delete only at the end of the list. To remove an\n",
    "element from a specified index, we will assign it a null value. We can update the element of a\n",
    "list by overriding it from the new value."
   ]
  },
  {
   "cell_type": "code",
   "execution_count": 15,
   "id": "819d63df-a0f8-4b9d-bc32-5dfc259fe0f3",
   "metadata": {},
   "outputs": [
    {
     "name": "stdout",
     "output_type": "stream",
     "text": [
      "Emp Name: Kajal \n",
      "Emp Name: Priya \n",
      "Emp Name: Neha \n",
      "Emp Name: Amit \n"
     ]
    },
    {
     "name": "stderr",
     "output_type": "stream",
     "text": [
      "add emp:\n"
     ]
    },
    {
     "data": {
      "text/html": [
       "<ol>\n",
       "\t<li>'Kajal'</li>\n",
       "\t<li>'Priya'</li>\n",
       "\t<li>'Neha'</li>\n",
       "\t<li>'Amit'</li>\n",
       "\t<li>'Prajwal'</li>\n",
       "</ol>\n"
      ],
      "text/latex": [
       "\\begin{enumerate}\n",
       "\\item 'Kajal'\n",
       "\\item 'Priya'\n",
       "\\item 'Neha'\n",
       "\\item 'Amit'\n",
       "\\item 'Prajwal'\n",
       "\\end{enumerate}\n"
      ],
      "text/markdown": [
       "1. 'Kajal'\n",
       "2. 'Priya'\n",
       "3. 'Neha'\n",
       "4. 'Amit'\n",
       "5. 'Prajwal'\n",
       "\n",
       "\n"
      ],
      "text/plain": [
       "[[1]]\n",
       "[1] \"Kajal\"\n",
       "\n",
       "[[2]]\n",
       "[1] \"Priya\"\n",
       "\n",
       "[[3]]\n",
       "[1] \"Neha\"\n",
       "\n",
       "[[4]]\n",
       "[1] \"Amit\"\n",
       "\n",
       "[[5]]\n",
       "[1] \"Prajwal\"\n"
      ]
     },
     "metadata": {},
     "output_type": "display_data"
    },
    {
     "name": "stdout",
     "output_type": "stream",
     "text": [
      "[[1]]\n",
      "[1] \"Kajal\"\n",
      "\n",
      "[[2]]\n",
      "[1] \"Priya\"\n",
      "\n",
      "[[3]]\n",
      "[1] \"Neha\"\n",
      "\n",
      "[[4]]\n",
      "[1] \"Amit\"\n",
      "\n",
      "[[5]]\n",
      "[1] \"Prajwal\"\n",
      "\n"
     ]
    },
    {
     "name": "stderr",
     "output_type": "stream",
     "text": [
      "3 index:\n"
     ]
    },
    {
     "name": "stdout",
     "output_type": "stream",
     "text": [
      "[[1]]\n",
      "[1] \"Amit\"\n",
      "\n"
     ]
    },
    {
     "name": "stderr",
     "output_type": "stream",
     "text": [
      "3 index removed:\n"
     ]
    },
    {
     "name": "stdout",
     "output_type": "stream",
     "text": [
      "[[1]]\n",
      "[1] \"Kajal\"\n",
      "\n",
      "[[2]]\n",
      "[1] \"Priya\"\n",
      "\n",
      "[[3]]\n",
      "[1] \"Amit\"\n",
      "\n",
      "[[4]]\n",
      "[1] \"Prajwal\"\n",
      "\n"
     ]
    }
   ],
   "source": [
    "Employees=list(\"Kajal\",\"Priya\",\"Neha\",\"Amit\")\n",
    "\n",
    "#display names of Employees\n",
    "for(E in Employees){\n",
    "    cat(\"Emp Name:\",E,\"\\n\")\n",
    "}\n",
    "\n",
    "#add emp at end of list\n",
    "message(\"add emp:\")\n",
    "Employees=append(Employees,\"Prajwal\")\n",
    "#cat(\"appended list=\",Employees,\"\\n\")\n",
    "Employees\n",
    "print(Employees)\n",
    "#remove the third element of the list\n",
    "Employees[3]<-NULL\n",
    "message(\"3 index:\")\n",
    "print(Employees[3])\n",
    "message(\"3 index removed:\")\n",
    "print(Employees)"
   ]
  },
  {
   "cell_type": "code",
   "execution_count": 72,
   "id": "641f2ba1-0d02-4870-8219-d4f6401bc962",
   "metadata": {},
   "outputs": [
    {
     "name": "stdout",
     "output_type": "stream",
     "text": [
      "[[1]]\n",
      "[1] \"stud1\" \"stud2\" \"stud3\"\n",
      "\n",
      "[[2]]\n",
      "     [,1] [,2] [,3]\n",
      "[1,]   15   17   19\n",
      "[2,]   16   18   19\n",
      "[3,]   16   19   19\n",
      "\n",
      "[[3]]\n",
      "[[3]][[1]]\n",
      "[1] \"BCA\"\n",
      "\n",
      "[[3]][[2]]\n",
      "[1] \"BSC(cyber)\"\n",
      "\n",
      "[[3]][[3]]\n",
      "[1] \"BCS\"\n",
      "\n",
      "\n",
      "[1] 17 18 19\n",
      "[[1]]\n",
      "[[1]][[1]]\n",
      "[1] \"BCA\"\n",
      "\n",
      "[[1]][[2]]\n",
      "[1] \"BSC(cyber)\"\n",
      "\n",
      "[[1]][[3]]\n",
      "[1] \"BCS\"\n",
      "\n",
      "\n",
      "[1] \"BCA\"\n",
      "stud1 15 16 16 BCA"
     ]
    }
   ],
   "source": [
    "list_data=list(c(\"stud1\",\"stud2\",\"stud3\"),matrix(c(15,16,16,17,18,19,19,19,19),ncol=3),list(\"BCA\",\"BSC(cyber)\",\"BCS\"))\n",
    "\n",
    "print(list_data)\n",
    "\n",
    "#Use list_data[[2]] to extract the matrix from the list.\n",
    "#Note the use of double square brackets [[ ]] to access the matrix directly, not as a list containing a matrix.\n",
    "mat=list_data[[2]]\n",
    "print(mat[,2])\n",
    "\n",
    "print(list_data[3])\n",
    "\n",
    "#print single student record\n",
    "cat(list_data[[1]][1],list_data[[2]][,1],print(list_data[[3]][[1]]))"
   ]
  },
  {
   "cell_type": "code",
   "execution_count": null,
   "id": "038f9764-f51b-4a0e-b811-3e6a2c546b30",
   "metadata": {},
   "outputs": [],
   "source": []
  },
  {
   "cell_type": "code",
   "execution_count": null,
   "id": "80b12723-5869-4cae-a6d2-5ed8031f2a46",
   "metadata": {},
   "outputs": [],
   "source": []
  }
 ],
 "metadata": {
  "kernelspec": {
   "display_name": "R",
   "language": "R",
   "name": "ir"
  },
  "language_info": {
   "codemirror_mode": "r",
   "file_extension": ".r",
   "mimetype": "text/x-r-source",
   "name": "R",
   "pygments_lexer": "r",
   "version": "3.6.1"
  }
 },
 "nbformat": 4,
 "nbformat_minor": 5
}
