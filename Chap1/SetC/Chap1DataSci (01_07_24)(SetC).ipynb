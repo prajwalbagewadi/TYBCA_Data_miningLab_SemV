{
 "cells": [
  {
   "cell_type": "markdown",
   "id": "263e350b-5844-45be-a194-6468dc2ac58a",
   "metadata": {},
   "source": [
    "## SET C"
   ]
  },
  {
   "cell_type": "markdown",
   "id": "ae0dc913-25f0-4f08-bb73-cc829662ba67",
   "metadata": {},
   "source": [
    "## 1. Write a R Program to perform the following:\n",
    "## a. Create a Scattered plot to compare wind speed and temperature.\n",
    "## b. Create a Scattered plot to show the relationship between ozone and wind values\n",
    "## by giving appropriate values to colour argument.\n",
    "## c. Create a Bar plot to show the ozone level for all the days having temperature > 70.\n",
    "## (Use inbuilt dataset air quality)"
   ]
  },
  {
   "cell_type": "code",
   "execution_count": null,
   "id": "95177b3b-2d50-4592-b347-f61aff729da9",
   "metadata": {},
   "outputs": [],
   "source": [
    "data():\n",
    "The data() function in R lists all available datasets in the current R session, \n",
    "including built-in datasets and those loaded from packages.\n",
    "You can use it to explore and load datasets"
   ]
  },
  {
   "cell_type": "code",
   "execution_count": null,
   "id": "6abd6826-6d8d-4c57-b9e1-15133113ba45",
   "metadata": {},
   "outputs": [],
   "source": [
    "plot():\n",
    "The plot() function in R is versatile and can be used to create a wide variety of plots.\n",
    "\n",
    "Basic Syntax:\n",
    "plot(x, y, ...)\n",
    "Common Parameters\n",
    "x: The data for the x-axis.\n",
    "y: The data for the y-axis (optional if plotting a single variable).\n",
    "type: The type of plot. Common options include:\n",
    "\"p\": points (default)\n",
    "\"l\": lines\n",
    "\"b\": both points and lines\n",
    "\"h\": histogram-like vertical lines\n",
    "main: The main title of the plot.\n",
    "sub: The subtitle of the plot.\n",
    "xlab: The label for the x-axis.\n",
    "ylab: The label for the y-axis.\n",
    "xlim: The limits of the x-axis.\n",
    "ylim: The limits of the y-axis.\n",
    "col: The color of the points or lines.\n",
    "pch: The plotting character (symbol) for points.\n",
    "lty: The line type.\n",
    "lwd: The line width."
   ]
  },
  {
   "cell_type": "code",
   "execution_count": 194,
   "id": "486983d0-cba8-4a4d-bdbc-7b83d4446dea",
   "metadata": {
    "scrolled": true
   },
   "outputs": [
    {
     "name": "stderr",
     "output_type": "stream",
     "text": [
      "airquality Dataset:\n"
     ]
    },
    {
     "data": {
      "text/html": [
       "<table>\n",
       "<thead><tr><th scope=col>Ozone</th><th scope=col>Solar.R</th><th scope=col>Wind</th><th scope=col>Temp</th><th scope=col>Month</th><th scope=col>Day</th></tr></thead>\n",
       "<tbody>\n",
       "\t<tr><td>41  </td><td>190 </td><td> 7.4</td><td>67  </td><td>5   </td><td>1   </td></tr>\n",
       "\t<tr><td>36  </td><td>118 </td><td> 8.0</td><td>72  </td><td>5   </td><td>2   </td></tr>\n",
       "\t<tr><td>12  </td><td>149 </td><td>12.6</td><td>74  </td><td>5   </td><td>3   </td></tr>\n",
       "\t<tr><td>18  </td><td>313 </td><td>11.5</td><td>62  </td><td>5   </td><td>4   </td></tr>\n",
       "\t<tr><td>NA  </td><td> NA </td><td>14.3</td><td>56  </td><td>5   </td><td>5   </td></tr>\n",
       "\t<tr><td>28  </td><td> NA </td><td>14.9</td><td>66  </td><td>5   </td><td>6   </td></tr>\n",
       "</tbody>\n",
       "</table>\n"
      ],
      "text/latex": [
       "\\begin{tabular}{r|llllll}\n",
       " Ozone & Solar.R & Wind & Temp & Month & Day\\\\\n",
       "\\hline\n",
       "\t 41   & 190  &  7.4 & 67   & 5    & 1   \\\\\n",
       "\t 36   & 118  &  8.0 & 72   & 5    & 2   \\\\\n",
       "\t 12   & 149  & 12.6 & 74   & 5    & 3   \\\\\n",
       "\t 18   & 313  & 11.5 & 62   & 5    & 4   \\\\\n",
       "\t NA   &  NA  & 14.3 & 56   & 5    & 5   \\\\\n",
       "\t 28   &  NA  & 14.9 & 66   & 5    & 6   \\\\\n",
       "\\end{tabular}\n"
      ],
      "text/markdown": [
       "\n",
       "| Ozone | Solar.R | Wind | Temp | Month | Day |\n",
       "|---|---|---|---|---|---|\n",
       "| 41   | 190  |  7.4 | 67   | 5    | 1    |\n",
       "| 36   | 118  |  8.0 | 72   | 5    | 2    |\n",
       "| 12   | 149  | 12.6 | 74   | 5    | 3    |\n",
       "| 18   | 313  | 11.5 | 62   | 5    | 4    |\n",
       "| NA   |  NA  | 14.3 | 56   | 5    | 5    |\n",
       "| 28   |  NA  | 14.9 | 66   | 5    | 6    |\n",
       "\n"
      ],
      "text/plain": [
       "  Ozone Solar.R Wind Temp Month Day\n",
       "1 41    190      7.4 67   5     1  \n",
       "2 36    118      8.0 72   5     2  \n",
       "3 12    149     12.6 74   5     3  \n",
       "4 18    313     11.5 62   5     4  \n",
       "5 NA     NA     14.3 56   5     5  \n",
       "6 28     NA     14.9 66   5     6  "
      ]
     },
     "metadata": {},
     "output_type": "display_data"
    },
    {
     "name": "stderr",
     "output_type": "stream",
     "text": [
      "Scattered plot to compare wind speed and temperature:\n"
     ]
    },
    {
     "data": {
      "image/png": "[encoded data removed]",
      "text/plain": [
       "Plot with title \"Windspeed vs Temperature\""
      ]
     },
     "metadata": {},
     "output_type": "display_data"
    }
   ],
   "source": [
    "#view dataset air quality\n",
    "#data() # view all available inbuilt data set.\n",
    "data(airquality)\n",
    "message(\"airquality Dataset:\")\n",
    "head(airquality)\n",
    "\n",
    "#Create a Scattered plot to compare wind speed and temperature\n",
    "message(\"Scattered plot to compare wind speed and temperature:\")\n",
    "plot(x=airquality$Wind,\n",
    "     y=airquality$Temp,\n",
    "     type=\"p\",\n",
    "     main=\"Windspeed vs Temperature\",\n",
    "     xlab=\"WindSpeed (Speed mph)\",\n",
    "     ylab=\"Temperature (Degrees F)\",\n",
    "     #xlim=c(0,20),\n",
    "     #ylim=c(0,100),\n",
    "     pch=18,\n",
    "    )"
   ]
  },
  {
   "cell_type": "code",
   "execution_count": 196,
   "id": "0c69389e-a02e-4cc8-923e-43d1a6a277c9",
   "metadata": {},
   "outputs": [
    {
     "name": "stderr",
     "output_type": "stream",
     "text": [
      "airquality Dataset:\n"
     ]
    },
    {
     "data": {
      "text/html": [
       "<table>\n",
       "<thead><tr><th scope=col>Ozone</th><th scope=col>Solar.R</th><th scope=col>Wind</th><th scope=col>Temp</th><th scope=col>Month</th><th scope=col>Day</th></tr></thead>\n",
       "<tbody>\n",
       "\t<tr><td>41  </td><td>190 </td><td> 7.4</td><td>67  </td><td>5   </td><td>1   </td></tr>\n",
       "\t<tr><td>36  </td><td>118 </td><td> 8.0</td><td>72  </td><td>5   </td><td>2   </td></tr>\n",
       "\t<tr><td>12  </td><td>149 </td><td>12.6</td><td>74  </td><td>5   </td><td>3   </td></tr>\n",
       "\t<tr><td>18  </td><td>313 </td><td>11.5</td><td>62  </td><td>5   </td><td>4   </td></tr>\n",
       "\t<tr><td>NA  </td><td> NA </td><td>14.3</td><td>56  </td><td>5   </td><td>5   </td></tr>\n",
       "\t<tr><td>28  </td><td> NA </td><td>14.9</td><td>66  </td><td>5   </td><td>6   </td></tr>\n",
       "</tbody>\n",
       "</table>\n"
      ],
      "text/latex": [
       "\\begin{tabular}{r|llllll}\n",
       " Ozone & Solar.R & Wind & Temp & Month & Day\\\\\n",
       "\\hline\n",
       "\t 41   & 190  &  7.4 & 67   & 5    & 1   \\\\\n",
       "\t 36   & 118  &  8.0 & 72   & 5    & 2   \\\\\n",
       "\t 12   & 149  & 12.6 & 74   & 5    & 3   \\\\\n",
       "\t 18   & 313  & 11.5 & 62   & 5    & 4   \\\\\n",
       "\t NA   &  NA  & 14.3 & 56   & 5    & 5   \\\\\n",
       "\t 28   &  NA  & 14.9 & 66   & 5    & 6   \\\\\n",
       "\\end{tabular}\n"
      ],
      "text/markdown": [
       "\n",
       "| Ozone | Solar.R | Wind | Temp | Month | Day |\n",
       "|---|---|---|---|---|---|\n",
       "| 41   | 190  |  7.4 | 67   | 5    | 1    |\n",
       "| 36   | 118  |  8.0 | 72   | 5    | 2    |\n",
       "| 12   | 149  | 12.6 | 74   | 5    | 3    |\n",
       "| 18   | 313  | 11.5 | 62   | 5    | 4    |\n",
       "| NA   |  NA  | 14.3 | 56   | 5    | 5    |\n",
       "| 28   |  NA  | 14.9 | 66   | 5    | 6    |\n",
       "\n"
      ],
      "text/plain": [
       "  Ozone Solar.R Wind Temp Month Day\n",
       "1 41    190      7.4 67   5     1  \n",
       "2 36    118      8.0 72   5     2  \n",
       "3 12    149     12.6 74   5     3  \n",
       "4 18    313     11.5 62   5     4  \n",
       "5 NA     NA     14.3 56   5     5  \n",
       "6 28     NA     14.9 66   5     6  "
      ]
     },
     "metadata": {},
     "output_type": "display_data"
    },
    {
     "name": "stderr",
     "output_type": "stream",
     "text": [
      "Create a Scattered plot to show the relationship between ozone and wind values by giving appropriate values to colour argument.\n"
     ]
    },
    {
     "data": {
      "image/png": "[encoded data removed]",
      "text/plain": [
       "Plot with title \"Relation between Ozone & Wind\""
      ]
     },
     "metadata": {},
     "output_type": "display_data"
    }
   ],
   "source": [
    "# b. Create a Scattered plot to show the relationship between ozone and wind values by giving appropriate values to colour argument.\n",
    "data(airquality)\n",
    "message(\"airquality Dataset:\")\n",
    "head(airquality)\n",
    "\n",
    "message(\"Create a Scattered plot to show the relationship between ozone and wind values by giving appropriate values to colour argument.\")\n",
    "plot(x=airquality$Ozone,\n",
    "     y=airquality$Wind,\n",
    "     type=\"p\",\n",
    "     main=\"Relation between Ozone & Wind\",\n",
    "     xlab=\"Ozone (PartsPerBillion)\",\n",
    "     ylab=\"Wind (Speed mph)\",\n",
    "     pch=18,\n",
    "     col=\"red\"\n",
    "    )\n",
    "# points(x=airquality$Ozone,\n",
    "#        pch=18,\n",
    "#        col=\"red\"\n",
    "#       )"
   ]
  },
  {
   "cell_type": "code",
   "execution_count": null,
   "id": "4781db10-136f-4a1b-8a30-322a7e9d5297",
   "metadata": {},
   "outputs": [],
   "source": [
    "barplot():\n",
    "The barplot() function in R is used to create bar charts. Below is the basic syntax of the barplot() function along with some common parameters you can use to customize your bar chart:\n",
    "\n",
    "Basic Syntax\n",
    "\n",
    "barplot(height, ...)\n",
    "Common Parameters\n",
    "height: A vector or matrix of values describing the bars. If height is a vector, \n",
    "        a single group of bars is plotted. If height is a matrix and beside is FALSE (default), \n",
    "        then the values in each column are juxtaposed rather than being stacked.\n",
    "beside: A logical value. If TRUE, the bars are placed beside each other. If FALSE, they are stacked.\n",
    "main: The main title of the bar plot.\n",
    "sub: The subtitle of the bar plot.\n",
    "xlab: The label for the x-axis.\n",
    "ylab: The label for the y-axis.\n",
    "names.arg: A vector of names to be used as labels for the bars.\n",
    "col: A vector of colors for the bars.\n",
    "border: The color to use for the border of the bars.\n",
    "legend.text: A vector of text used to construct a legend for the bar plot.\n",
    "args.legend: A list of additional arguments to pass to the legend() function."
   ]
  },
  {
   "cell_type": "code",
   "execution_count": 233,
   "id": "2cc8b08e-ee71-460f-bbb1-4ade902e22cd",
   "metadata": {},
   "outputs": [
    {
     "name": "stderr",
     "output_type": "stream",
     "text": [
      "airquality Dataset:\n"
     ]
    },
    {
     "data": {
      "text/html": [
       "<table>\n",
       "<thead><tr><th scope=col>Ozone</th><th scope=col>Solar.R</th><th scope=col>Wind</th><th scope=col>Temp</th><th scope=col>Month</th><th scope=col>Day</th></tr></thead>\n",
       "<tbody>\n",
       "\t<tr><td>41  </td><td>190 </td><td> 7.4</td><td>67  </td><td>5   </td><td>1   </td></tr>\n",
       "\t<tr><td>36  </td><td>118 </td><td> 8.0</td><td>72  </td><td>5   </td><td>2   </td></tr>\n",
       "\t<tr><td>12  </td><td>149 </td><td>12.6</td><td>74  </td><td>5   </td><td>3   </td></tr>\n",
       "\t<tr><td>18  </td><td>313 </td><td>11.5</td><td>62  </td><td>5   </td><td>4   </td></tr>\n",
       "\t<tr><td>NA  </td><td> NA </td><td>14.3</td><td>56  </td><td>5   </td><td>5   </td></tr>\n",
       "\t<tr><td>28  </td><td> NA </td><td>14.9</td><td>66  </td><td>5   </td><td>6   </td></tr>\n",
       "</tbody>\n",
       "</table>\n"
      ],
      "text/latex": [
       "\\begin{tabular}{r|llllll}\n",
       " Ozone & Solar.R & Wind & Temp & Month & Day\\\\\n",
       "\\hline\n",
       "\t 41   & 190  &  7.4 & 67   & 5    & 1   \\\\\n",
       "\t 36   & 118  &  8.0 & 72   & 5    & 2   \\\\\n",
       "\t 12   & 149  & 12.6 & 74   & 5    & 3   \\\\\n",
       "\t 18   & 313  & 11.5 & 62   & 5    & 4   \\\\\n",
       "\t NA   &  NA  & 14.3 & 56   & 5    & 5   \\\\\n",
       "\t 28   &  NA  & 14.9 & 66   & 5    & 6   \\\\\n",
       "\\end{tabular}\n"
      ],
      "text/markdown": [
       "\n",
       "| Ozone | Solar.R | Wind | Temp | Month | Day |\n",
       "|---|---|---|---|---|---|\n",
       "| 41   | 190  |  7.4 | 67   | 5    | 1    |\n",
       "| 36   | 118  |  8.0 | 72   | 5    | 2    |\n",
       "| 12   | 149  | 12.6 | 74   | 5    | 3    |\n",
       "| 18   | 313  | 11.5 | 62   | 5    | 4    |\n",
       "| NA   |  NA  | 14.3 | 56   | 5    | 5    |\n",
       "| 28   |  NA  | 14.9 | 66   | 5    | 6    |\n",
       "\n"
      ],
      "text/plain": [
       "  Ozone Solar.R Wind Temp Month Day\n",
       "1 41    190      7.4 67   5     1  \n",
       "2 36    118      8.0 72   5     2  \n",
       "3 12    149     12.6 74   5     3  \n",
       "4 18    313     11.5 62   5     4  \n",
       "5 NA     NA     14.3 56   5     5  \n",
       "6 28     NA     14.9 66   5     6  "
      ]
     },
     "metadata": {},
     "output_type": "display_data"
    },
    {
     "name": "stderr",
     "output_type": "stream",
     "text": [
      "Ozone Level on days having Temp > 70.\n",
      "Ozone Level on days having Temp > 70.:(data):\n"
     ]
    },
    {
     "name": "stdout",
     "output_type": "stream",
     "text": [
      "    Ozone Solar.R Wind Temp Month Day\n",
      "2      36     118  8.0   72     5   2\n",
      "3      12     149 12.6   74     5   3\n",
      "11      7      NA  6.9   74     5  11\n",
      "22     11     320 16.6   73     5  22\n",
      "29     45     252 14.9   81     5  29\n",
      "30    115     223  5.7   79     5  30\n",
      "31     37     279  7.4   76     5  31\n",
      "32     NA     286  8.6   78     6   1\n",
      "33     NA     287  9.7   74     6   2\n",
      "35     NA     186  9.2   84     6   4\n",
      "36     NA     220  8.6   85     6   5\n",
      "37     NA     264 14.3   79     6   6\n",
      "38     29     127  9.7   82     6   7\n",
      "39     NA     273  6.9   87     6   8\n",
      "40     71     291 13.8   90     6   9\n",
      "41     39     323 11.5   87     6  10\n",
      "42     NA     259 10.9   93     6  11\n",
      "43     NA     250  9.2   92     6  12\n",
      "44     23     148  8.0   82     6  13\n",
      "45     NA     332 13.8   80     6  14\n",
      "46     NA     322 11.5   79     6  15\n",
      "47     21     191 14.9   77     6  16\n",
      "48     37     284 20.7   72     6  17\n",
      "50     12     120 11.5   73     6  19\n",
      "51     13     137 10.3   76     6  20\n",
      "52     NA     150  6.3   77     6  21\n",
      "53     NA      59  1.7   76     6  22\n",
      "54     NA      91  4.6   76     6  23\n",
      "55     NA     250  6.3   76     6  24\n",
      "56     NA     135  8.0   75     6  25\n",
      "57     NA     127  8.0   78     6  26\n",
      "58     NA      47 10.3   73     6  27\n",
      "59     NA      98 11.5   80     6  28\n",
      "60     NA      31 14.9   77     6  29\n",
      "61     NA     138  8.0   83     6  30\n",
      "62    135     269  4.1   84     7   1\n",
      "63     49     248  9.2   85     7   2\n",
      "64     32     236  9.2   81     7   3\n",
      "65     NA     101 10.9   84     7   4\n",
      "66     64     175  4.6   83     7   5\n",
      "67     40     314 10.9   83     7   6\n",
      "68     77     276  5.1   88     7   7\n",
      "69     97     267  6.3   92     7   8\n",
      "70     97     272  5.7   92     7   9\n",
      "71     85     175  7.4   89     7  10\n",
      "72     NA     139  8.6   82     7  11\n",
      "73     10     264 14.3   73     7  12\n",
      "74     27     175 14.9   81     7  13\n",
      "75     NA     291 14.9   91     7  14\n",
      "76      7      48 14.3   80     7  15\n",
      "77     48     260  6.9   81     7  16\n",
      "78     35     274 10.3   82     7  17\n",
      "79     61     285  6.3   84     7  18\n",
      "80     79     187  5.1   87     7  19\n",
      "81     63     220 11.5   85     7  20\n",
      "82     16       7  6.9   74     7  21\n",
      "83     NA     258  9.7   81     7  22\n",
      "84     NA     295 11.5   82     7  23\n",
      "85     80     294  8.6   86     7  24\n",
      "86    108     223  8.0   85     7  25\n",
      "87     20      81  8.6   82     7  26\n",
      "88     52      82 12.0   86     7  27\n",
      "89     82     213  7.4   88     7  28\n",
      "90     50     275  7.4   86     7  29\n",
      "91     64     253  7.4   83     7  30\n",
      "92     59     254  9.2   81     7  31\n",
      "93     39      83  6.9   81     8   1\n",
      "94      9      24 13.8   81     8   2\n",
      "95     16      77  7.4   82     8   3\n",
      "96     78      NA  6.9   86     8   4\n",
      "97     35      NA  7.4   85     8   5\n",
      "98     66      NA  4.6   87     8   6\n",
      "99    122     255  4.0   89     8   7\n",
      "100    89     229 10.3   90     8   8\n",
      "101   110     207  8.0   90     8   9\n",
      "102    NA     222  8.6   92     8  10\n",
      "103    NA     137 11.5   86     8  11\n",
      "104    44     192 11.5   86     8  12\n",
      "105    28     273 11.5   82     8  13\n",
      "106    65     157  9.7   80     8  14\n",
      "107    NA      64 11.5   79     8  15\n",
      "108    22      71 10.3   77     8  16\n",
      "109    59      51  6.3   79     8  17\n",
      "110    23     115  7.4   76     8  18\n",
      "111    31     244 10.9   78     8  19\n",
      "112    44     190 10.3   78     8  20\n",
      "113    21     259 15.5   77     8  21\n",
      "114     9      36 14.3   72     8  22\n",
      "115    NA     255 12.6   75     8  23\n",
      "116    45     212  9.7   79     8  24\n",
      "117   168     238  3.4   81     8  25\n",
      "118    73     215  8.0   86     8  26\n",
      "119    NA     153  5.7   88     8  27\n",
      "120    76     203  9.7   97     8  28\n",
      "121   118     225  2.3   94     8  29\n",
      "122    84     237  6.3   96     8  30\n",
      "123    85     188  6.3   94     8  31\n",
      "124    96     167  6.9   91     9   1\n",
      "125    78     197  5.1   92     9   2\n",
      "126    73     183  2.8   93     9   3\n",
      "127    91     189  4.6   93     9   4\n",
      "128    47      95  7.4   87     9   5\n",
      "129    32      92 15.5   84     9   6\n",
      "130    20     252 10.9   80     9   7\n",
      "131    23     220 10.3   78     9   8\n",
      "132    21     230 10.9   75     9   9\n",
      "133    24     259  9.7   73     9  10\n",
      "134    44     236 14.9   81     9  11\n",
      "135    21     259 15.5   76     9  12\n",
      "136    28     238  6.3   77     9  13\n",
      "137     9      24 10.9   71     9  14\n",
      "138    13     112 11.5   71     9  15\n",
      "139    46     237  6.9   78     9  16\n",
      "141    13      27 10.3   76     9  18\n",
      "143    16     201  8.0   82     9  20\n",
      "145    23      14  9.2   71     9  22\n",
      "146    36     139 10.3   81     9  23\n",
      "150    NA     145 13.2   77     9  27\n",
      "151    14     191 14.3   75     9  28\n",
      "152    18     131  8.0   76     9  29\n"
     ]
    },
    {
     "data": {
      "image/png": "[encoded data removed]",
      "text/plain": [
       "Plot with title \"Ozone level on day having Temp > 70.\""
      ]
     },
     "metadata": {},
     "output_type": "display_data"
    }
   ],
   "source": [
    "#Create a Bar plot to show the ozone level for all the days having temperature > 70.\n",
    "data(airquality)\n",
    "message(\"airquality Dataset:\")\n",
    "head(airquality)\n",
    "\n",
    "message(\"Ozone Level on days having Temp > 70.\")\n",
    "df=airquality[airquality$Temp>70,]\n",
    "message(\"Ozone Level on days having Temp > 70.:(data):\")\n",
    "print(df)\n",
    "barplot(height=df$Ozone,\n",
    "        main=\"Ozone level on day having Temp > 70.\",\n",
    "        xlab=\"Month\",\n",
    "        ylab=\"Ozone level (ppb)\",\n",
    "        ylim=c(0,200),\n",
    "        names.arg=c(df$Month),\n",
    "        col=\"pink\"\n",
    "       )"
   ]
  },
  {
   "cell_type": "code",
   "execution_count": null,
   "id": "d9b9b3ee-0327-42f2-954f-ff094512b373",
   "metadata": {},
   "outputs": [],
   "source": []
  }
 ],
 "metadata": {
  "kernelspec": {
   "display_name": "R",
   "language": "R",
   "name": "ir"
  },
  "language_info": {
   "codemirror_mode": "r",
   "file_extension": ".r",
   "mimetype": "text/x-r-source",
   "name": "R",
   "pygments_lexer": "r",
   "version": "3.6.1"
  }
 },
 "nbformat": 4,
 "nbformat_minor": 5
}
